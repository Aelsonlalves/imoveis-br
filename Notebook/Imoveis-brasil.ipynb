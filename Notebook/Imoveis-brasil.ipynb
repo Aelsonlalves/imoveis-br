{
 "cells": [
  {
   "cell_type": "markdown",
   "metadata": {},
   "source": [
    "0 - INTRODUÇÃO"
   ]
  },
  {
   "cell_type": "markdown",
   "metadata": {},
   "source": [
    "1 - BIBLIOTECAS DO PROJETO\n",
    "\n",
    "Bibliotecas utilizadas para o scraping dos dados, criação e limpeza do dataframe, análise exploratória e modelagem de dados para regressão linear."
   ]
  },
  {
   "cell_type": "code",
   "execution_count": 4,
   "metadata": {},
   "outputs": [
    {
     "data": {
      "text/plain": [
       "<Figure size 640x480 with 0 Axes>"
      ]
     },
     "metadata": {},
     "output_type": "display_data"
    }
   ],
   "source": [
    "#Scraping\n",
    "from selenium import webdriver\n",
    "import time\n",
    "from selenium.webdriver.firefox.service import Service\n",
    "from selenium.webdriver.common.by import By\n",
    "#EDA\n",
    "import pandas as pd\n",
    "import seaborn as sns\n",
    "import matplotlib.pyplot as plt\n",
    "#Machine learning\n",
    "\n",
    "\n",
    "#configurações \n",
    "\n",
    "pd.set_option(\"max_colwidth\", 1000)\n",
    "pd.set_option(\"display.max_columns\", 60)\n",
    "pd.set_option(\"display.max_rows\", 20)\n",
    "sns.set_style(\"whitegrid\")\n",
    "sns.despine()\n",
    "\n",
    "\n"
   ]
  },
  {
   "cell_type": "markdown",
   "metadata": {},
   "source": [
    "2 - WEB SCRAPING COM SELENIUM"
   ]
  },
  {
   "cell_type": "code",
   "execution_count": 2,
   "metadata": {},
   "outputs": [],
   "source": [
    "#Criando a estrutura de scraping\n",
    "service = Service()\n",
    "options = webdriver.FirefoxOptions()\n",
    "driver = webdriver.Firefox(options=options, service=service) #criando o webdriver\n",
    "driver.get('https://www.vivareal.com.br/venda/?pagina=1') #abrindo o driver\n",
    "\n",
    "\n",
    "\n"
   ]
  },
  {
   "cell_type": "code",
   "execution_count": 3,
   "metadata": {},
   "outputs": [],
   "source": [
    "#lista para armazenar os dados obtidos\n",
    "imoveis_lista  = []"
   ]
  },
  {
   "cell_type": "code",
   "execution_count": null,
   "metadata": {},
   "outputs": [],
   "source": [
    "#acessando os xpaths e coletando os dados\n",
    "for p in range(1,278): #277 páginas\n",
    "      imoveis = driver.find_elements(By.CLASS_NAME, \"property-card__content-link\")\n",
    "      for imovel in imoveis:           \n",
    "           titulo = imovel.find_element(By.XPATH, './/span[@class=\"property-card__title js-cardLink js-card-title\"]').text\n",
    "           price = imovel.find_element(By.XPATH, './/div[@class=\"property-card__price js-property-card-prices js-property-card__price-small\"]').text\n",
    "           area = imovel.find_element(By.XPATH, './/span[@class=\"property-card__detail-value js-property-card-value property-card__detail-area js-property-card-detail-area\"]').text\n",
    "           quartos = imovel.find_element(By.XPATH, './/li[@class=\"property-card__detail-item property-card__detail-room js-property-detail-rooms\"]').text\n",
    "           banheiros = imovel.find_element(By.XPATH, './/li[@class=\"property-card__detail-item property-card__detail-bathroom js-property-detail-bathroom\"]').text\n",
    "           garagem = imovel.find_element(By.XPATH, './/li[@class=\"property-card__detail-item property-card__detail-garage js-property-detail-garages\"]').text\n",
    "           endereco = imovel.find_element(By.XPATH, './/span[@class=\"property-card__address\"]').text\n",
    "          \n",
    "           imovel_view = {\n",
    "                 'titulo':titulo,\n",
    "                 \"preco\":price,\n",
    "                 \"area\": area,\n",
    "                 'quartos':quartos,\n",
    "                 'banheiros': banheiros,\n",
    "                 'garagem': garagem,\n",
    "                 'endereco': endereco     \n",
    "            }\n",
    "           imoveis_lista.append(imovel_view)\n",
    "      driver.find_element(By.XPATH, '/html/body/main/div[2]/div[1]/section/div[2]/div[2]/div/ul/li[9]/button').click()\n",
    "      time.sleep(5)\n",
    "     \n",
    "\n",
    "\n"
   ]
  },
  {
   "cell_type": "markdown",
   "metadata": {},
   "source": [
    "3 - CRIANDO DATAFRAME"
   ]
  },
  {
   "cell_type": "code",
   "execution_count": null,
   "metadata": {},
   "outputs": [],
   "source": [
    "imoveis_br = pd.DataFrame(imoveis_lista)\n",
    "imoveis_br"
   ]
  },
  {
   "cell_type": "code",
   "execution_count": 22,
   "metadata": {},
   "outputs": [
    {
     "data": {
      "text/plain": [
       "False    8946\n",
       "True     1056\n",
       "Name: count, dtype: int64"
      ]
     },
     "execution_count": 22,
     "metadata": {},
     "output_type": "execute_result"
    }
   ],
   "source": [
    "#verificando dados duplicados\n",
    "imoveis_br.duplicated().value_counts()"
   ]
  },
  {
   "cell_type": "code",
   "execution_count": 24,
   "metadata": {},
   "outputs": [
    {
     "data": {
      "text/html": [
       "<div>\n",
       "<style scoped>\n",
       "    .dataframe tbody tr th:only-of-type {\n",
       "        vertical-align: middle;\n",
       "    }\n",
       "\n",
       "    .dataframe tbody tr th {\n",
       "        vertical-align: top;\n",
       "    }\n",
       "\n",
       "    .dataframe thead th {\n",
       "        text-align: right;\n",
       "    }\n",
       "</style>\n",
       "<table border=\"1\" class=\"dataframe\">\n",
       "  <thead>\n",
       "    <tr style=\"text-align: right;\">\n",
       "      <th></th>\n",
       "      <th>titulo</th>\n",
       "      <th>preco</th>\n",
       "      <th>area</th>\n",
       "      <th>quartos</th>\n",
       "      <th>banheiros</th>\n",
       "      <th>garagem</th>\n",
       "      <th>endereco</th>\n",
       "    </tr>\n",
       "  </thead>\n",
       "  <tbody>\n",
       "    <tr>\n",
       "      <th>0</th>\n",
       "      <td>Apartamento com 3 Quartos à Venda, 150m²</td>\n",
       "      <td>R$ 320.000\\nPreço abaixo do mercado</td>\n",
       "      <td>150</td>\n",
       "      <td>3 Quartos</td>\n",
       "      <td>4 Banheiros</td>\n",
       "      <td>4 Vagas</td>\n",
       "      <td>Travessa Felício, 41 - Cascadura, Rio de Janei...</td>\n",
       "    </tr>\n",
       "    <tr>\n",
       "      <th>1</th>\n",
       "      <td>Casa com 3 Quartos à Venda, 74m²</td>\n",
       "      <td>R$ 98.556</td>\n",
       "      <td>74</td>\n",
       "      <td>3 Quartos</td>\n",
       "      <td>2 Banheiros</td>\n",
       "      <td>3 Vagas</td>\n",
       "      <td>Rua José Bolonha, 547 - Igacaba, Pedregulho - SP</td>\n",
       "    </tr>\n",
       "    <tr>\n",
       "      <th>2</th>\n",
       "      <td>Casa com 3 Quartos à Venda, 450m²</td>\n",
       "      <td>R$ 550.000</td>\n",
       "      <td>450</td>\n",
       "      <td>3 Quartos</td>\n",
       "      <td>5 Banheiros</td>\n",
       "      <td>10 Vagas</td>\n",
       "      <td>Avenida Ponte Alta Norte, 08 - Ponte Alta Nort...</td>\n",
       "    </tr>\n",
       "    <tr>\n",
       "      <th>3</th>\n",
       "      <td>Casa com 3 Quartos à Venda, 110m²</td>\n",
       "      <td>R$ 230.000</td>\n",
       "      <td>110</td>\n",
       "      <td>3 Quartos</td>\n",
       "      <td>2 Banheiros</td>\n",
       "      <td>1 Vaga</td>\n",
       "      <td>Ponte Marcos Freire II, 56 - Marcos Freire II,...</td>\n",
       "    </tr>\n",
       "    <tr>\n",
       "      <th>4</th>\n",
       "      <td>Apartamento com 3 Quartos à Venda, 95m²</td>\n",
       "      <td>R$ 485.000</td>\n",
       "      <td>95</td>\n",
       "      <td>3 Quartos</td>\n",
       "      <td>3 Banheiros</td>\n",
       "      <td>2 Vagas</td>\n",
       "      <td>Avenida Presidente Kennedy, 432 - Piedade, Jab...</td>\n",
       "    </tr>\n",
       "    <tr>\n",
       "      <th>...</th>\n",
       "      <td>...</td>\n",
       "      <td>...</td>\n",
       "      <td>...</td>\n",
       "      <td>...</td>\n",
       "      <td>...</td>\n",
       "      <td>...</td>\n",
       "      <td>...</td>\n",
       "    </tr>\n",
       "    <tr>\n",
       "      <th>9996</th>\n",
       "      <td>Apartamento com 2 Quartos à Venda, 46m²</td>\n",
       "      <td>R$ 265.000</td>\n",
       "      <td>46</td>\n",
       "      <td>2 Quartos</td>\n",
       "      <td>1 Banheiro</td>\n",
       "      <td>1 Vaga</td>\n",
       "      <td>Rua Cravinhos, 0 - Jardim Paulistano, Ribeirão...</td>\n",
       "    </tr>\n",
       "    <tr>\n",
       "      <th>9997</th>\n",
       "      <td>Apartamento com Quarto à Venda, 56m²</td>\n",
       "      <td>R$ 640.000</td>\n",
       "      <td>56</td>\n",
       "      <td>1 Quarto</td>\n",
       "      <td>2 Banheiros</td>\n",
       "      <td>1 Vaga</td>\n",
       "      <td>Avenida Wladimir Meirelles Ferreira, 0 - Jardi...</td>\n",
       "    </tr>\n",
       "    <tr>\n",
       "      <th>9998</th>\n",
       "      <td>Casa de condomínio com 3 Quartos à Venda, 130m²</td>\n",
       "      <td>R$ 650.000</td>\n",
       "      <td>130</td>\n",
       "      <td>3 Quartos</td>\n",
       "      <td>1 Banheiro</td>\n",
       "      <td>2 Vagas</td>\n",
       "      <td>Bonfim Paulista, Ribeirão Preto - SP</td>\n",
       "    </tr>\n",
       "    <tr>\n",
       "      <th>9999</th>\n",
       "      <td>Apartamento com 3 Quartos à Venda, 118m²</td>\n",
       "      <td>R$ 600.000</td>\n",
       "      <td>118</td>\n",
       "      <td>3 Quartos</td>\n",
       "      <td>3 Banheiros</td>\n",
       "      <td>1 Vaga</td>\n",
       "      <td>Rua Humaitá, 0 - Santa Cruz do José Jacques, R...</td>\n",
       "    </tr>\n",
       "    <tr>\n",
       "      <th>10000</th>\n",
       "      <td>Casa de condomínio com 3 Quartos à Venda, 272m²</td>\n",
       "      <td>R$ 1.500.000</td>\n",
       "      <td>272</td>\n",
       "      <td>3 Quartos</td>\n",
       "      <td>4 Banheiros</td>\n",
       "      <td>5 Vagas</td>\n",
       "      <td>Rua Arlindo Rivoiro, 0 - Recreio das Acácias, ...</td>\n",
       "    </tr>\n",
       "  </tbody>\n",
       "</table>\n",
       "<p>8946 rows × 7 columns</p>\n",
       "</div>"
      ],
      "text/plain": [
       "                                                titulo  \\\n",
       "0             Apartamento com 3 Quartos à Venda, 150m²   \n",
       "1                     Casa com 3 Quartos à Venda, 74m²   \n",
       "2                    Casa com 3 Quartos à Venda, 450m²   \n",
       "3                    Casa com 3 Quartos à Venda, 110m²   \n",
       "4              Apartamento com 3 Quartos à Venda, 95m²   \n",
       "...                                                ...   \n",
       "9996           Apartamento com 2 Quartos à Venda, 46m²   \n",
       "9997              Apartamento com Quarto à Venda, 56m²   \n",
       "9998   Casa de condomínio com 3 Quartos à Venda, 130m²   \n",
       "9999          Apartamento com 3 Quartos à Venda, 118m²   \n",
       "10000  Casa de condomínio com 3 Quartos à Venda, 272m²   \n",
       "\n",
       "                                     preco area    quartos    banheiros  \\\n",
       "0      R$ 320.000\\nPreço abaixo do mercado  150  3 Quartos  4 Banheiros   \n",
       "1                                R$ 98.556   74  3 Quartos  2 Banheiros   \n",
       "2                               R$ 550.000  450  3 Quartos  5 Banheiros   \n",
       "3                               R$ 230.000  110  3 Quartos  2 Banheiros   \n",
       "4                               R$ 485.000   95  3 Quartos  3 Banheiros   \n",
       "...                                    ...  ...        ...          ...   \n",
       "9996                            R$ 265.000   46  2 Quartos   1 Banheiro   \n",
       "9997                            R$ 640.000   56   1 Quarto  2 Banheiros   \n",
       "9998                            R$ 650.000  130  3 Quartos   1 Banheiro   \n",
       "9999                            R$ 600.000  118  3 Quartos  3 Banheiros   \n",
       "10000                         R$ 1.500.000  272  3 Quartos  4 Banheiros   \n",
       "\n",
       "        garagem                                           endereco  \n",
       "0       4 Vagas  Travessa Felício, 41 - Cascadura, Rio de Janei...  \n",
       "1       3 Vagas   Rua José Bolonha, 547 - Igacaba, Pedregulho - SP  \n",
       "2      10 Vagas  Avenida Ponte Alta Norte, 08 - Ponte Alta Nort...  \n",
       "3        1 Vaga  Ponte Marcos Freire II, 56 - Marcos Freire II,...  \n",
       "4       2 Vagas  Avenida Presidente Kennedy, 432 - Piedade, Jab...  \n",
       "...         ...                                                ...  \n",
       "9996     1 Vaga  Rua Cravinhos, 0 - Jardim Paulistano, Ribeirão...  \n",
       "9997     1 Vaga  Avenida Wladimir Meirelles Ferreira, 0 - Jardi...  \n",
       "9998    2 Vagas               Bonfim Paulista, Ribeirão Preto - SP  \n",
       "9999     1 Vaga  Rua Humaitá, 0 - Santa Cruz do José Jacques, R...  \n",
       "10000   5 Vagas  Rua Arlindo Rivoiro, 0 - Recreio das Acácias, ...  \n",
       "\n",
       "[8946 rows x 7 columns]"
      ]
     },
     "execution_count": 24,
     "metadata": {},
     "output_type": "execute_result"
    }
   ],
   "source": [
    "#removendo dados duplicados\n",
    "imoveis_br = imoveis_br.drop_duplicates()\n",
    "imoveis_br"
   ]
  },
  {
   "cell_type": "code",
   "execution_count": 27,
   "metadata": {},
   "outputs": [],
   "source": [
    "#salvando dados como csv\n",
    "imoveis_br.to_csv(\"imoveis_br.csv\")"
   ]
  },
  {
   "cell_type": "markdown",
   "metadata": {},
   "source": [
    "3.1 - LIMPEZA DO DATAFRAME"
   ]
  },
  {
   "cell_type": "code",
   "execution_count": 79,
   "metadata": {},
   "outputs": [
    {
     "data": {
      "text/html": [
       "<div>\n",
       "<style scoped>\n",
       "    .dataframe tbody tr th:only-of-type {\n",
       "        vertical-align: middle;\n",
       "    }\n",
       "\n",
       "    .dataframe tbody tr th {\n",
       "        vertical-align: top;\n",
       "    }\n",
       "\n",
       "    .dataframe thead th {\n",
       "        text-align: right;\n",
       "    }\n",
       "</style>\n",
       "<table border=\"1\" class=\"dataframe\">\n",
       "  <thead>\n",
       "    <tr style=\"text-align: right;\">\n",
       "      <th></th>\n",
       "      <th>titulo</th>\n",
       "      <th>preco</th>\n",
       "      <th>area</th>\n",
       "      <th>quartos</th>\n",
       "      <th>banheiros</th>\n",
       "      <th>garagem</th>\n",
       "      <th>endereco</th>\n",
       "    </tr>\n",
       "  </thead>\n",
       "  <tbody>\n",
       "    <tr>\n",
       "      <th>0</th>\n",
       "      <td>Apartamento com 3 Quartos à Venda, 150m²</td>\n",
       "      <td>R$ 320.000\\nPreço abaixo do mercado</td>\n",
       "      <td>150</td>\n",
       "      <td>3 Quartos</td>\n",
       "      <td>4 Banheiros</td>\n",
       "      <td>4 Vagas</td>\n",
       "      <td>Travessa Felício, 41 - Cascadura, Rio de Janeiro - RJ</td>\n",
       "    </tr>\n",
       "    <tr>\n",
       "      <th>1</th>\n",
       "      <td>Casa com 3 Quartos à Venda, 74m²</td>\n",
       "      <td>R$ 98.556</td>\n",
       "      <td>74</td>\n",
       "      <td>3 Quartos</td>\n",
       "      <td>2 Banheiros</td>\n",
       "      <td>3 Vagas</td>\n",
       "      <td>Rua José Bolonha, 547 - Igacaba, Pedregulho - SP</td>\n",
       "    </tr>\n",
       "    <tr>\n",
       "      <th>2</th>\n",
       "      <td>Casa com 3 Quartos à Venda, 450m²</td>\n",
       "      <td>R$ 550.000</td>\n",
       "      <td>450</td>\n",
       "      <td>3 Quartos</td>\n",
       "      <td>5 Banheiros</td>\n",
       "      <td>10 Vagas</td>\n",
       "      <td>Avenida Ponte Alta Norte, 08 - Ponte Alta Norte, Brasília - DF</td>\n",
       "    </tr>\n",
       "    <tr>\n",
       "      <th>3</th>\n",
       "      <td>Casa com 3 Quartos à Venda, 110m²</td>\n",
       "      <td>R$ 230.000</td>\n",
       "      <td>110</td>\n",
       "      <td>3 Quartos</td>\n",
       "      <td>2 Banheiros</td>\n",
       "      <td>1 Vaga</td>\n",
       "      <td>Ponte Marcos Freire II, 56 - Marcos Freire II, Nossa Senhora do Socorro - SE</td>\n",
       "    </tr>\n",
       "    <tr>\n",
       "      <th>4</th>\n",
       "      <td>Apartamento com 3 Quartos à Venda, 95m²</td>\n",
       "      <td>R$ 485.000</td>\n",
       "      <td>95</td>\n",
       "      <td>3 Quartos</td>\n",
       "      <td>3 Banheiros</td>\n",
       "      <td>2 Vagas</td>\n",
       "      <td>Avenida Presidente Kennedy, 432 - Piedade, Jaboatão dos Guararapes - PE</td>\n",
       "    </tr>\n",
       "    <tr>\n",
       "      <th>...</th>\n",
       "      <td>...</td>\n",
       "      <td>...</td>\n",
       "      <td>...</td>\n",
       "      <td>...</td>\n",
       "      <td>...</td>\n",
       "      <td>...</td>\n",
       "      <td>...</td>\n",
       "    </tr>\n",
       "    <tr>\n",
       "      <th>8925</th>\n",
       "      <td>Apartamento com 2 Quartos à Venda, 46m²</td>\n",
       "      <td>R$ 265.000</td>\n",
       "      <td>46</td>\n",
       "      <td>2 Quartos</td>\n",
       "      <td>1 Banheiro</td>\n",
       "      <td>1 Vaga</td>\n",
       "      <td>Rua Cravinhos, 0 - Jardim Paulistano, Ribeirão Preto - SP</td>\n",
       "    </tr>\n",
       "    <tr>\n",
       "      <th>8926</th>\n",
       "      <td>Apartamento com Quarto à Venda, 56m²</td>\n",
       "      <td>R$ 640.000</td>\n",
       "      <td>56</td>\n",
       "      <td>1 Quarto</td>\n",
       "      <td>2 Banheiros</td>\n",
       "      <td>1 Vaga</td>\n",
       "      <td>Avenida Wladimir Meirelles Ferreira, 0 - Jardim Botânico, Ribeirão Preto - SP</td>\n",
       "    </tr>\n",
       "    <tr>\n",
       "      <th>8927</th>\n",
       "      <td>Casa de condomínio com 3 Quartos à Venda, 130m²</td>\n",
       "      <td>R$ 650.000</td>\n",
       "      <td>130</td>\n",
       "      <td>3 Quartos</td>\n",
       "      <td>1 Banheiro</td>\n",
       "      <td>2 Vagas</td>\n",
       "      <td>Bonfim Paulista, Ribeirão Preto - SP</td>\n",
       "    </tr>\n",
       "    <tr>\n",
       "      <th>8928</th>\n",
       "      <td>Apartamento com 3 Quartos à Venda, 118m²</td>\n",
       "      <td>R$ 600.000</td>\n",
       "      <td>118</td>\n",
       "      <td>3 Quartos</td>\n",
       "      <td>3 Banheiros</td>\n",
       "      <td>1 Vaga</td>\n",
       "      <td>Rua Humaitá, 0 - Santa Cruz do José Jacques, Ribeirão Preto - SP</td>\n",
       "    </tr>\n",
       "    <tr>\n",
       "      <th>8929</th>\n",
       "      <td>Casa de condomínio com 3 Quartos à Venda, 272m²</td>\n",
       "      <td>R$ 1.500.000</td>\n",
       "      <td>272</td>\n",
       "      <td>3 Quartos</td>\n",
       "      <td>4 Banheiros</td>\n",
       "      <td>5 Vagas</td>\n",
       "      <td>Rua Arlindo Rivoiro, 0 - Recreio das Acácias, Ribeirão Preto - SP</td>\n",
       "    </tr>\n",
       "  </tbody>\n",
       "</table>\n",
       "<p>8930 rows × 7 columns</p>\n",
       "</div>"
      ],
      "text/plain": [
       "                                               titulo  \\\n",
       "0            Apartamento com 3 Quartos à Venda, 150m²   \n",
       "1                    Casa com 3 Quartos à Venda, 74m²   \n",
       "2                   Casa com 3 Quartos à Venda, 450m²   \n",
       "3                   Casa com 3 Quartos à Venda, 110m²   \n",
       "4             Apartamento com 3 Quartos à Venda, 95m²   \n",
       "...                                               ...   \n",
       "8925          Apartamento com 2 Quartos à Venda, 46m²   \n",
       "8926             Apartamento com Quarto à Venda, 56m²   \n",
       "8927  Casa de condomínio com 3 Quartos à Venda, 130m²   \n",
       "8928         Apartamento com 3 Quartos à Venda, 118m²   \n",
       "8929  Casa de condomínio com 3 Quartos à Venda, 272m²   \n",
       "\n",
       "                                    preco area    quartos    banheiros  \\\n",
       "0     R$ 320.000\\nPreço abaixo do mercado  150  3 Quartos  4 Banheiros   \n",
       "1                               R$ 98.556   74  3 Quartos  2 Banheiros   \n",
       "2                              R$ 550.000  450  3 Quartos  5 Banheiros   \n",
       "3                              R$ 230.000  110  3 Quartos  2 Banheiros   \n",
       "4                              R$ 485.000   95  3 Quartos  3 Banheiros   \n",
       "...                                   ...  ...        ...          ...   \n",
       "8925                           R$ 265.000   46  2 Quartos   1 Banheiro   \n",
       "8926                           R$ 640.000   56   1 Quarto  2 Banheiros   \n",
       "8927                           R$ 650.000  130  3 Quartos   1 Banheiro   \n",
       "8928                           R$ 600.000  118  3 Quartos  3 Banheiros   \n",
       "8929                         R$ 1.500.000  272  3 Quartos  4 Banheiros   \n",
       "\n",
       "       garagem  \\\n",
       "0      4 Vagas   \n",
       "1      3 Vagas   \n",
       "2     10 Vagas   \n",
       "3       1 Vaga   \n",
       "4      2 Vagas   \n",
       "...        ...   \n",
       "8925    1 Vaga   \n",
       "8926    1 Vaga   \n",
       "8927   2 Vagas   \n",
       "8928    1 Vaga   \n",
       "8929   5 Vagas   \n",
       "\n",
       "                                                                           endereco  \n",
       "0                             Travessa Felício, 41 - Cascadura, Rio de Janeiro - RJ  \n",
       "1                                  Rua José Bolonha, 547 - Igacaba, Pedregulho - SP  \n",
       "2                    Avenida Ponte Alta Norte, 08 - Ponte Alta Norte, Brasília - DF  \n",
       "3      Ponte Marcos Freire II, 56 - Marcos Freire II, Nossa Senhora do Socorro - SE  \n",
       "4           Avenida Presidente Kennedy, 432 - Piedade, Jaboatão dos Guararapes - PE  \n",
       "...                                                                             ...  \n",
       "8925                      Rua Cravinhos, 0 - Jardim Paulistano, Ribeirão Preto - SP  \n",
       "8926  Avenida Wladimir Meirelles Ferreira, 0 - Jardim Botânico, Ribeirão Preto - SP  \n",
       "8927                                           Bonfim Paulista, Ribeirão Preto - SP  \n",
       "8928               Rua Humaitá, 0 - Santa Cruz do José Jacques, Ribeirão Preto - SP  \n",
       "8929              Rua Arlindo Rivoiro, 0 - Recreio das Acácias, Ribeirão Preto - SP  \n",
       "\n",
       "[8930 rows x 7 columns]"
      ]
     },
     "execution_count": 79,
     "metadata": {},
     "output_type": "execute_result"
    }
   ],
   "source": [
    "df = pd.read_csv('imoveis_br.csv', index_col=0 )\n",
    "df = df.drop([99, 1181, 3248, 3255, 5117, 5130, 5285, 5380, 5511, 5754, 7611, 7770,\n",
    "       7943, 8562, 8945, 9631]) #removendo info de terrenos/lotes\n",
    "df = df.reset_index(drop=True)\n",
    "\n",
    "\n",
    "#verificando\n",
    "df"
   ]
  },
  {
   "cell_type": "code",
   "execution_count": 234,
   "metadata": {},
   "outputs": [
    {
     "data": {
      "text/plain": [
       "titulo        object\n",
       "preco        float64\n",
       "area           int32\n",
       "quartos        int32\n",
       "banheiros      int32\n",
       "garagem        int32\n",
       "endereco      object\n",
       "dtype: object"
      ]
     },
     "execution_count": 234,
     "metadata": {},
     "output_type": "execute_result"
    }
   ],
   "source": [
    "df.dtypes"
   ]
  },
  {
   "cell_type": "markdown",
   "metadata": {},
   "source": [
    "3.2 - LIMPEZA DA FEATURE 'TITULO'"
   ]
  },
  {
   "cell_type": "code",
   "execution_count": 80,
   "metadata": {},
   "outputs": [
    {
     "data": {
      "text/plain": [
       "0              Apartamento com 3 Quartos à Venda, 150m²\n",
       "1                      Casa com 3 Quartos à Venda, 74m²\n",
       "2                     Casa com 3 Quartos à Venda, 450m²\n",
       "3                     Casa com 3 Quartos à Venda, 110m²\n",
       "4               Apartamento com 3 Quartos à Venda, 95m²\n",
       "                             ...                       \n",
       "8925            Apartamento com 2 Quartos à Venda, 46m²\n",
       "8926               Apartamento com Quarto à Venda, 56m²\n",
       "8927    Casa de condomínio com 3 Quartos à Venda, 130m²\n",
       "8928           Apartamento com 3 Quartos à Venda, 118m²\n",
       "8929    Casa de condomínio com 3 Quartos à Venda, 272m²\n",
       "Name: titulo, Length: 8930, dtype: object"
      ]
     },
     "execution_count": 80,
     "metadata": {},
     "output_type": "execute_result"
    }
   ],
   "source": [
    "df['titulo']"
   ]
  },
  {
   "cell_type": "code",
   "execution_count": 81,
   "metadata": {},
   "outputs": [
    {
     "data": {
      "text/plain": [
       "str"
      ]
     },
     "execution_count": 81,
     "metadata": {},
     "output_type": "execute_result"
    }
   ],
   "source": [
    "#tipo de dado armazenado\n",
    "type(df['titulo'][0])"
   ]
  },
  {
   "cell_type": "markdown",
   "metadata": {},
   "source": [
    "É esperado e desejado que o título seja, de fato, uma string. Quando a isso a coluna está adequada. Farei apenas uma mudança estética na coluna para melhor leitura."
   ]
  },
  {
   "cell_type": "code",
   "execution_count": 82,
   "metadata": {},
   "outputs": [],
   "source": [
    "#substituindo \",\" por \" com\"\n",
    "titulo = []\n",
    "for t in df['titulo']:\n",
    "    t = t.replace(\",\", \" com\")\n",
    "    titulo.append(t)"
   ]
  },
  {
   "cell_type": "code",
   "execution_count": 235,
   "metadata": {},
   "outputs": [],
   "source": [
    "df['titulo'] = titulo\n",
    "df['titulo'] = df['titulo'].astype(str)"
   ]
  },
  {
   "cell_type": "markdown",
   "metadata": {},
   "source": [
    "3.3 - LIMPEZA DA FEATURE 'PRECO'"
   ]
  },
  {
   "cell_type": "code",
   "execution_count": 84,
   "metadata": {},
   "outputs": [
    {
     "data": {
      "text/plain": [
       "0       R$ 320.000\\nPreço abaixo do mercado\n",
       "1                                 R$ 98.556\n",
       "2                                R$ 550.000\n",
       "3                                R$ 230.000\n",
       "4                                R$ 485.000\n",
       "                       ...                 \n",
       "8925                             R$ 265.000\n",
       "8926                             R$ 640.000\n",
       "8927                             R$ 650.000\n",
       "8928                             R$ 600.000\n",
       "8929                           R$ 1.500.000\n",
       "Name: preco, Length: 8930, dtype: object"
      ]
     },
     "execution_count": 84,
     "metadata": {},
     "output_type": "execute_result"
    }
   ],
   "source": [
    "df[\"preco\"]"
   ]
  },
  {
   "cell_type": "code",
   "execution_count": 85,
   "metadata": {},
   "outputs": [
    {
     "data": {
      "text/plain": [
       "str"
      ]
     },
     "execution_count": 85,
     "metadata": {},
     "output_type": "execute_result"
    }
   ],
   "source": [
    "#tipo armazenado\n",
    "type(df[\"preco\"][0])"
   ]
  },
  {
   "cell_type": "markdown",
   "metadata": {},
   "source": [
    "É esperado que a feature 'preco' seja do tipo numérico (float) para isso é necessário limpar os 'R$' e 'Preço abaixo do mercado'."
   ]
  },
  {
   "cell_type": "code",
   "execution_count": 86,
   "metadata": {},
   "outputs": [],
   "source": [
    "#removendo cifrão\n",
    "preco = [p.replace(\"R$ \",\"\") for p in df[\"preco\"]]\n",
    "preco = [p.replace(\"\\nPreço abaixo do mercado\", \"\") for p in preco]\n",
    "\n",
    "\n",
    "df[\"preco\"] = preco"
   ]
  },
  {
   "cell_type": "code",
   "execution_count": 87,
   "metadata": {},
   "outputs": [
    {
     "data": {
      "text/plain": [
       "0         320.000\n",
       "1          98.556\n",
       "2         550.000\n",
       "3         230.000\n",
       "4         485.000\n",
       "          ...    \n",
       "8925      265.000\n",
       "8926      640.000\n",
       "8927      650.000\n",
       "8928      600.000\n",
       "8929    1.500.000\n",
       "Name: preco, Length: 8930, dtype: object"
      ]
     },
     "execution_count": 87,
     "metadata": {},
     "output_type": "execute_result"
    }
   ],
   "source": [
    "#Verificando\n",
    "df[\"preco\"]\n"
   ]
  },
  {
   "cell_type": "code",
   "execution_count": 88,
   "metadata": {},
   "outputs": [
    {
     "data": {
      "text/plain": [
       "str"
      ]
     },
     "execution_count": 88,
     "metadata": {},
     "output_type": "execute_result"
    }
   ],
   "source": [
    "type(df[\"preco\"][0])"
   ]
  },
  {
   "cell_type": "markdown",
   "metadata": {},
   "source": [
    "A aparência dos dados contidos em 'preco' está correta, porém o tipo de dado não é o adequado ainda."
   ]
  },
  {
   "cell_type": "code",
   "execution_count": 89,
   "metadata": {},
   "outputs": [
    {
     "data": {
      "text/plain": [
       "0         320.000\n",
       "1          98.556\n",
       "2         550.000\n",
       "3         230.000\n",
       "4         485.000\n",
       "          ...    \n",
       "8925      265.000\n",
       "8926      640.000\n",
       "8927      650.000\n",
       "8928      600.000\n",
       "8929    1.500.000\n",
       "Name: preco, Length: 8930, dtype: object"
      ]
     },
     "execution_count": 89,
     "metadata": {},
     "output_type": "execute_result"
    }
   ],
   "source": [
    "df[\"preco\"]"
   ]
  },
  {
   "cell_type": "code",
   "execution_count": 90,
   "metadata": {},
   "outputs": [],
   "source": [
    "#Necessário retirar o ponto para comunicar a dimensão correta dos dados\n",
    "df[\"preco\"] = [p.replace(\".\",\"\") for p in df[\"preco\"]]\n",
    "df[\"preco\"] = df[\"preco\"].astype(float)"
   ]
  },
  {
   "cell_type": "code",
   "execution_count": 91,
   "metadata": {},
   "outputs": [
    {
     "data": {
      "text/plain": [
       "0        320000.0\n",
       "1         98556.0\n",
       "2        550000.0\n",
       "3        230000.0\n",
       "4        485000.0\n",
       "          ...    \n",
       "8925     265000.0\n",
       "8926     640000.0\n",
       "8927     650000.0\n",
       "8928     600000.0\n",
       "8929    1500000.0\n",
       "Name: preco, Length: 8930, dtype: float64"
      ]
     },
     "execution_count": 91,
     "metadata": {},
     "output_type": "execute_result"
    }
   ],
   "source": [
    "df[\"preco\"]"
   ]
  },
  {
   "cell_type": "markdown",
   "metadata": {},
   "source": [
    "Dados agora estão no formato correto."
   ]
  },
  {
   "cell_type": "markdown",
   "metadata": {},
   "source": [
    "3.4 - LIMPEZA DA FEATURE 'area'"
   ]
  },
  {
   "cell_type": "code",
   "execution_count": 92,
   "metadata": {},
   "outputs": [
    {
     "data": {
      "text/plain": [
       "0       150\n",
       "1        74\n",
       "2       450\n",
       "3       110\n",
       "4        95\n",
       "       ... \n",
       "8925     46\n",
       "8926     56\n",
       "8927    130\n",
       "8928    118\n",
       "8929    272\n",
       "Name: area, Length: 8930, dtype: object"
      ]
     },
     "execution_count": 92,
     "metadata": {},
     "output_type": "execute_result"
    }
   ],
   "source": [
    "df['area']"
   ]
  },
  {
   "cell_type": "code",
   "execution_count": 93,
   "metadata": {},
   "outputs": [
    {
     "data": {
      "text/plain": [
       "str"
      ]
     },
     "execution_count": 93,
     "metadata": {},
     "output_type": "execute_result"
    }
   ],
   "source": [
    "#verificando o tipo de dado\n",
    "type(df['area'][0])"
   ]
  },
  {
   "cell_type": "markdown",
   "metadata": {},
   "source": [
    "Apesar de termos número inteiros na coluna, o tipo de dado delas está como str. "
   ]
  },
  {
   "cell_type": "code",
   "execution_count": 94,
   "metadata": {},
   "outputs": [],
   "source": [
    "#fazendo a mudança do tipo de dados e salvando\n",
    "df['area'] = df['area'].astype(int)"
   ]
  },
  {
   "cell_type": "code",
   "execution_count": 95,
   "metadata": {},
   "outputs": [
    {
     "data": {
      "text/plain": [
       "numpy.int32"
      ]
     },
     "execution_count": 95,
     "metadata": {},
     "output_type": "execute_result"
    }
   ],
   "source": [
    "#verificando\n",
    "type(df['area'][0])"
   ]
  },
  {
   "cell_type": "markdown",
   "metadata": {},
   "source": [
    "3.5 - LIMPEZA DA  FEATURE 'quartos'"
   ]
  },
  {
   "cell_type": "code",
   "execution_count": 97,
   "metadata": {},
   "outputs": [
    {
     "data": {
      "text/plain": [
       "0       3 Quartos\n",
       "1       3 Quartos\n",
       "2       3 Quartos\n",
       "3       3 Quartos\n",
       "4       3 Quartos\n",
       "          ...    \n",
       "8925    2 Quartos\n",
       "8926     1 Quarto\n",
       "8927    3 Quartos\n",
       "8928    3 Quartos\n",
       "8929    3 Quartos\n",
       "Name: quartos, Length: 8930, dtype: object"
      ]
     },
     "execution_count": 97,
     "metadata": {},
     "output_type": "execute_result"
    }
   ],
   "source": [
    "df['quartos']"
   ]
  },
  {
   "cell_type": "markdown",
   "metadata": {},
   "source": [
    "É preciso remover a string 'Quartos' e converter para o tipo int."
   ]
  },
  {
   "cell_type": "code",
   "execution_count": 99,
   "metadata": {},
   "outputs": [],
   "source": [
    "#removendo str\n",
    "df['quartos'] = [q.replace(\" Quartos\",\"\") for q in df['quartos']]\n",
    "df['quartos'] = [q.replace(\" Quarto\", \"\") for q in df['quartos']]\n",
    "df['quartos'] = [q.replace(\"--\", \"0\") for q in df['quartos']]"
   ]
  },
  {
   "cell_type": "markdown",
   "metadata": {},
   "source": [
    "Todas as ocorrências de 'quartos' == '--' são de terrenos/loteamentos indicando que não existem quartos nesses imoveis pois ainda não foram construídos."
   ]
  },
  {
   "cell_type": "code",
   "execution_count": 107,
   "metadata": {},
   "outputs": [
    {
     "data": {
      "text/plain": [
       "dtype('int32')"
      ]
     },
     "execution_count": 107,
     "metadata": {},
     "output_type": "execute_result"
    }
   ],
   "source": [
    "#mudando o tipo de dados\n",
    "df['quartos'] = df['quartos'].astype(int)\n",
    "df['quartos'].dtypes"
   ]
  },
  {
   "cell_type": "markdown",
   "metadata": {},
   "source": [
    "3.6 - LIMPEZA DA FEATURE 'BANHEIROS'"
   ]
  },
  {
   "cell_type": "code",
   "execution_count": 108,
   "metadata": {},
   "outputs": [
    {
     "data": {
      "text/plain": [
       "0       4 Banheiros\n",
       "1       2 Banheiros\n",
       "2       5 Banheiros\n",
       "3       2 Banheiros\n",
       "4       3 Banheiros\n",
       "           ...     \n",
       "8925     1 Banheiro\n",
       "8926    2 Banheiros\n",
       "8927     1 Banheiro\n",
       "8928    3 Banheiros\n",
       "8929    4 Banheiros\n",
       "Name: banheiros, Length: 8930, dtype: object"
      ]
     },
     "execution_count": 108,
     "metadata": {},
     "output_type": "execute_result"
    }
   ],
   "source": [
    "df['banheiros']"
   ]
  },
  {
   "cell_type": "code",
   "execution_count": 109,
   "metadata": {},
   "outputs": [],
   "source": [
    "#removendo as str\n",
    "df['banheiros'] = [q.replace(\" Banheiros\",\"\") for q in df['banheiros']]\n",
    "df['banheiros'] = [q.replace(\" Banheiro\", \"\") for q in df['banheiros']]\n",
    "df['banheiros'] = [q.replace(\"--\", \"0\") for q in df['banheiros']]"
   ]
  },
  {
   "cell_type": "markdown",
   "metadata": {},
   "source": [
    "Assim como na feature anterior temos '--' indicando loteamentos e terrenos. O tratamento seguiu o mesmo."
   ]
  },
  {
   "cell_type": "code",
   "execution_count": 111,
   "metadata": {},
   "outputs": [
    {
     "data": {
      "text/plain": [
       "dtype('int32')"
      ]
     },
     "execution_count": 111,
     "metadata": {},
     "output_type": "execute_result"
    }
   ],
   "source": [
    "#Mudando o tipo de dado\n",
    "df['banheiros'] = df['banheiros'].astype(int)\n",
    "df['banheiros'].dtypes"
   ]
  },
  {
   "cell_type": "markdown",
   "metadata": {},
   "source": [
    "3.7 - LIMPEZA DA FEATURE 'GARAGEM'"
   ]
  },
  {
   "cell_type": "code",
   "execution_count": 115,
   "metadata": {},
   "outputs": [
    {
     "data": {
      "text/plain": [
       "0        4 Vagas\n",
       "1        3 Vagas\n",
       "2       10 Vagas\n",
       "3         1 Vaga\n",
       "4        2 Vagas\n",
       "          ...   \n",
       "8925      1 Vaga\n",
       "8926      1 Vaga\n",
       "8927     2 Vagas\n",
       "8928      1 Vaga\n",
       "8929     5 Vagas\n",
       "Name: garagem, Length: 8930, dtype: object"
      ]
     },
     "execution_count": 115,
     "metadata": {},
     "output_type": "execute_result"
    }
   ],
   "source": [
    "df['garagem']"
   ]
  },
  {
   "cell_type": "code",
   "execution_count": 116,
   "metadata": {},
   "outputs": [],
   "source": [
    "df['garagem'] = [q.replace(\" Vagas\",\"\") for q in df['garagem']]\n",
    "df['garagem'] = [q.replace(\" Vaga\", \"\") for q in df['garagem']]\n",
    "df['garagem'] = [q.replace(\"--\", \"0\") for q in df['garagem']]"
   ]
  },
  {
   "cell_type": "code",
   "execution_count": 232,
   "metadata": {},
   "outputs": [
    {
     "data": {
      "text/plain": [
       "dtype('int32')"
      ]
     },
     "execution_count": 232,
     "metadata": {},
     "output_type": "execute_result"
    }
   ],
   "source": [
    "df['garagem'] = df['garagem'].astype(int)\n",
    "df['garagem'].dtypes"
   ]
  },
  {
   "cell_type": "code",
   "execution_count": 119,
   "metadata": {},
   "outputs": [
    {
     "data": {
      "text/plain": [
       "Index(['titulo', 'preco', 'area', 'quartos', 'banheiros', 'garagem',\n",
       "       'endereco'],\n",
       "      dtype='object')"
      ]
     },
     "execution_count": 119,
     "metadata": {},
     "output_type": "execute_result"
    }
   ],
   "source": [
    "df.columns"
   ]
  },
  {
   "cell_type": "markdown",
   "metadata": {},
   "source": [
    "3.8 - LIMPEZA DA FEATURE 'ENDERECO'\n",
    "\n",
    "Essa feature será dissolvida e outras três novas adicionadas, são elas: Rua, Cidade e Estado."
   ]
  },
  {
   "cell_type": "code",
   "execution_count": 205,
   "metadata": {},
   "outputs": [
    {
     "data": {
      "text/plain": [
       "0                               Travessa Felício, 41 - Cascadura, Rio de Janeiro - RJ\n",
       "1                                    Rua José Bolonha, 547 - Igacaba, Pedregulho - SP\n",
       "2                      Avenida Ponte Alta Norte, 08 - Ponte Alta Norte, Brasília - DF\n",
       "3        Ponte Marcos Freire II, 56 - Marcos Freire II, Nossa Senhora do Socorro - SE\n",
       "4             Avenida Presidente Kennedy, 432 - Piedade, Jaboatão dos Guararapes - PE\n",
       "                                            ...                                      \n",
       "8925                        Rua Cravinhos, 0 - Jardim Paulistano, Ribeirão Preto - SP\n",
       "8926    Avenida Wladimir Meirelles Ferreira, 0 - Jardim Botânico, Ribeirão Preto - SP\n",
       "8927                                             Bonfim Paulista, Ribeirão Preto - SP\n",
       "8928                 Rua Humaitá, 0 - Santa Cruz do José Jacques, Ribeirão Preto - SP\n",
       "8929                Rua Arlindo Rivoiro, 0 - Recreio das Acácias, Ribeirão Preto - SP\n",
       "Name: endereco, Length: 8930, dtype: object"
      ]
     },
     "execution_count": 205,
     "metadata": {},
     "output_type": "execute_result"
    }
   ],
   "source": [
    "df['endereco']"
   ]
  },
  {
   "cell_type": "code",
   "execution_count": 216,
   "metadata": {},
   "outputs": [
    {
     "name": "stdout",
     "output_type": "stream",
     "text": [
      "['BR 116,']\n",
      "['SP']\n",
      "['Zona Rural, SP']\n"
     ]
    }
   ],
   "source": [
    "ender_split = df['endereco'].str.split(\"-\")\n",
    "for e in ender_split:\n",
    "    if len(e) == 1:\n",
    "        print(e)"
   ]
  },
  {
   "cell_type": "code",
   "execution_count": 212,
   "metadata": {},
   "outputs": [
    {
     "ename": "IndexError",
     "evalue": "list index out of range",
     "output_type": "error",
     "traceback": [
      "\u001b[1;31m---------------------------------------------------------------------------\u001b[0m",
      "\u001b[1;31mIndexError\u001b[0m                                Traceback (most recent call last)",
      "Cell \u001b[1;32mIn[212], line 17\u001b[0m\n\u001b[0;32m     15\u001b[0m lista_bairro_cidade \u001b[38;5;241m=\u001b[39m i\u001b[38;5;241m.\u001b[39msplit(sep\u001b[38;5;241m=\u001b[39m\u001b[38;5;124m\"\u001b[39m\u001b[38;5;124m,\u001b[39m\u001b[38;5;124m\"\u001b[39m)\n\u001b[0;32m     16\u001b[0m bairro\u001b[38;5;241m.\u001b[39mappend(lista_bairro_cidade[\u001b[38;5;241m0\u001b[39m])\n\u001b[1;32m---> 17\u001b[0m cidade\u001b[38;5;241m.\u001b[39mappend(lista_bairro_cidade[\u001b[38;5;241m1\u001b[39m])\n",
      "\u001b[1;31mIndexError\u001b[0m: list index out of range"
     ]
    }
   ],
   "source": [
    "uf = []\n",
    "for i in ender_split:\n",
    "    uf.append(i[-1].strip())\n",
    "\n",
    "cidade_bairro = []\n",
    "for i in ender_split:\n",
    "    if len(i) == 3:\n",
    "        cidade_bairro.append(i[-2].strip())\n",
    "    if len(i) == 2:\n",
    "        cidade_bairro.append(i[0].strip())   \n",
    "\n",
    "bairro = []\n",
    "cidade = []\n",
    "for i in cidade_bairro:\n",
    "    lista_bairro_cidade = i.split(sep=\",\")\n",
    "    bairro.append(lista_bairro_cidade[0])\n",
    "    cidade.append(lista_bairro_cidade[1]) "
   ]
  },
  {
   "cell_type": "code",
   "execution_count": 213,
   "metadata": {},
   "outputs": [
    {
     "data": {
      "text/plain": [
       "['Sarandi']"
      ]
     },
     "execution_count": 213,
     "metadata": {},
     "output_type": "execute_result"
    }
   ],
   "source": [
    "lista_bairro_cidade"
   ]
  },
  {
   "cell_type": "code",
   "execution_count": null,
   "metadata": {},
   "outputs": [],
   "source": []
  }
 ],
 "metadata": {
  "kernelspec": {
   "display_name": "base",
   "language": "python",
   "name": "python3"
  },
  "language_info": {
   "codemirror_mode": {
    "name": "ipython",
    "version": 3
   },
   "file_extension": ".py",
   "mimetype": "text/x-python",
   "name": "python",
   "nbconvert_exporter": "python",
   "pygments_lexer": "ipython3",
   "version": "3.11.5"
  }
 },
 "nbformat": 4,
 "nbformat_minor": 2
}
