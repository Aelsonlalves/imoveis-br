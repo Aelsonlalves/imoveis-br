{
 "cells": [
  {
   "cell_type": "markdown",
   "metadata": {},
   "source": [
    "0 - INTRODUÇÃO"
   ]
  },
  {
   "cell_type": "markdown",
   "metadata": {},
   "source": [
    "1 - BIBLIOTECAS DO PROJETO\n",
    "\n",
    "Bibliotecas utilizadas para o scraping dos dados, criação e limpeza do dataframe, análise exploratória e modelagem de dados para regressão linear."
   ]
  },
  {
   "cell_type": "code",
   "execution_count": 1,
   "metadata": {},
   "outputs": [
    {
     "data": {
      "text/plain": [
       "<Figure size 640x480 with 0 Axes>"
      ]
     },
     "metadata": {},
     "output_type": "display_data"
    }
   ],
   "source": [
    "#Scraping\n",
    "from selenium import webdriver\n",
    "import time\n",
    "from selenium.webdriver.firefox.service import Service\n",
    "from selenium.webdriver.common.by import By\n",
    "#EDA\n",
    "import pandas as pd\n",
    "import numpy as np\n",
    "import seaborn as sns\n",
    "import matplotlib.pyplot as plt\n",
    "#Machine learning\n",
    "\n",
    "\n",
    "#configurações \n",
    "\n",
    "pd.set_option(\"max_colwidth\", 1000)\n",
    "pd.set_option(\"display.max_columns\", 60)\n",
    "pd.set_option(\"display.max_rows\", 40)\n",
    "sns.set_style(\"whitegrid\")\n",
    "sns.despine()\n",
    "\n",
    "\n"
   ]
  },
  {
   "cell_type": "markdown",
   "metadata": {},
   "source": [
    "2 - WEB SCRAPING COM SELENIUM"
   ]
  },
  {
   "cell_type": "code",
   "execution_count": null,
   "metadata": {},
   "outputs": [],
   "source": [
    "#Criando a estrutura de scraping\n",
    "service = Service()\n",
    "options = webdriver.FirefoxOptions()\n",
    "driver = webdriver.Firefox(options=options, service=service) #criando o webdriver\n",
    "driver.get('https://www.vivareal.com.br/venda/?pagina=1') #abrindo o driver\n",
    "\n",
    "\n",
    "\n"
   ]
  },
  {
   "cell_type": "code",
   "execution_count": null,
   "metadata": {},
   "outputs": [],
   "source": [
    "#lista para armazenar os dados obtidos\n",
    "imoveis_lista  = []"
   ]
  },
  {
   "cell_type": "code",
   "execution_count": null,
   "metadata": {},
   "outputs": [],
   "source": [
    "#acessando os xpaths e coletando os dados\n",
    "for p in range(1,278): #277 páginas\n",
    "\n",
    "         imoveis = driver.find_elements(By.CLASS_NAME, \"property-card__content-link\") #lista dos elements de cada item na página\n",
    "         for imovel in imoveis:           \n",
    "              titulo = imovel.find_element(By.XPATH, './/span[@class=\"property-card__title js-cardLink js-card-title\"]').text\n",
    "              price = imovel.find_element(By.XPATH, './/div[@class=\"property-card__price js-property-card-prices js-property-card__price-small\"]').text\n",
    "              area = imovel.find_element(By.XPATH, './/span[@class=\"property-card__detail-value js-property-card-value property-card__detail-area js-property-card-detail-area\"]').text\n",
    "              quartos = imovel.find_element(By.XPATH, './/li[@class=\"property-card__detail-item property-card__detail-room js-property-detail-rooms\"]').text\n",
    "              banheiros = imovel.find_element(By.XPATH, './/li[@class=\"property-card__detail-item property-card__detail-bathroom js-property-detail-bathroom\"]').text\n",
    "              garagem = imovel.find_element(By.XPATH, './/li[@class=\"property-card__detail-item property-card__detail-garage js-property-detail-garages\"]').text\n",
    "              endereco = imovel.find_element(By.XPATH, './/span[@class=\"property-card__address\"]').text\n",
    "          \n",
    "              imovel_view = {\n",
    "                    'titulo':titulo,\n",
    "                    \"preco\":price,\n",
    "                    \"area\": area,\n",
    "                    'quartos':quartos,\n",
    "                    'banheiros': banheiros,\n",
    "                    'garagem': garagem,\n",
    "                    'endereco': endereco     \n",
    "               }\n",
    "              imoveis_lista.append(imovel_view)\n",
    "         driver.find_element(By.XPATH, '/html/body/main/div[2]/div[1]/section/div[2]/div[2]/div/ul/li[9]/button').click()\n",
    "         time.sleep(5)\n",
    "     \n",
    "\n",
    "\n"
   ]
  },
  {
   "cell_type": "markdown",
   "metadata": {},
   "source": [
    "3 - CRIANDO DATAFRAME"
   ]
  },
  {
   "cell_type": "code",
   "execution_count": null,
   "metadata": {},
   "outputs": [],
   "source": [
    "moveis_br = pd.DataFrame(imoveis_lista)\n",
    "imoveis_br"
   ]
  },
  {
   "cell_type": "code",
   "execution_count": null,
   "metadata": {},
   "outputs": [],
   "source": [
    "#verificando dados duplicados\n",
    "imoveis_br.duplicated().value_counts()"
   ]
  },
  {
   "cell_type": "code",
   "execution_count": null,
   "metadata": {},
   "outputs": [],
   "source": [
    "#removendo dados duplicados\n",
    "imoveis_br = imoveis_br.drop_duplicates()\n",
    "imoveis_br"
   ]
  },
  {
   "cell_type": "code",
   "execution_count": null,
   "metadata": {},
   "outputs": [],
   "source": [
    "#salvando dados como csv\n",
    "imoveis_br.to_csv(\"imoveis_br.csv\")"
   ]
  },
  {
   "cell_type": "markdown",
   "metadata": {},
   "source": [
    "3.1 - LIMPEZA DO DATAFRAME"
   ]
  },
  {
   "cell_type": "code",
   "execution_count": 9,
   "metadata": {},
   "outputs": [
    {
     "data": {
      "text/html": [
       "<div>\n",
       "<style scoped>\n",
       "    .dataframe tbody tr th:only-of-type {\n",
       "        vertical-align: middle;\n",
       "    }\n",
       "\n",
       "    .dataframe tbody tr th {\n",
       "        vertical-align: top;\n",
       "    }\n",
       "\n",
       "    .dataframe thead th {\n",
       "        text-align: right;\n",
       "    }\n",
       "</style>\n",
       "<table border=\"1\" class=\"dataframe\">\n",
       "  <thead>\n",
       "    <tr style=\"text-align: right;\">\n",
       "      <th></th>\n",
       "      <th>titulo</th>\n",
       "      <th>preco</th>\n",
       "      <th>area</th>\n",
       "      <th>quartos</th>\n",
       "      <th>banheiros</th>\n",
       "      <th>garagem</th>\n",
       "      <th>endereco</th>\n",
       "    </tr>\n",
       "  </thead>\n",
       "  <tbody>\n",
       "    <tr>\n",
       "      <th>0</th>\n",
       "      <td>Apartamento com 3 Quartos à Venda, 150m²</td>\n",
       "      <td>R$ 320.000\\nPreço abaixo do mercado</td>\n",
       "      <td>150</td>\n",
       "      <td>3 Quartos</td>\n",
       "      <td>4 Banheiros</td>\n",
       "      <td>4 Vagas</td>\n",
       "      <td>Travessa Felício, 41 - Cascadura, Rio de Janeiro - RJ</td>\n",
       "    </tr>\n",
       "    <tr>\n",
       "      <th>1</th>\n",
       "      <td>Casa com 3 Quartos à Venda, 74m²</td>\n",
       "      <td>R$ 98.556</td>\n",
       "      <td>74</td>\n",
       "      <td>3 Quartos</td>\n",
       "      <td>2 Banheiros</td>\n",
       "      <td>3 Vagas</td>\n",
       "      <td>Rua José Bolonha, 547 - Igacaba, Pedregulho - SP</td>\n",
       "    </tr>\n",
       "    <tr>\n",
       "      <th>2</th>\n",
       "      <td>Casa com 3 Quartos à Venda, 450m²</td>\n",
       "      <td>R$ 550.000</td>\n",
       "      <td>450</td>\n",
       "      <td>3 Quartos</td>\n",
       "      <td>5 Banheiros</td>\n",
       "      <td>10 Vagas</td>\n",
       "      <td>Avenida Ponte Alta Norte, 08 - Ponte Alta Norte, Brasília - DF</td>\n",
       "    </tr>\n",
       "    <tr>\n",
       "      <th>3</th>\n",
       "      <td>Casa com 3 Quartos à Venda, 110m²</td>\n",
       "      <td>R$ 230.000</td>\n",
       "      <td>110</td>\n",
       "      <td>3 Quartos</td>\n",
       "      <td>2 Banheiros</td>\n",
       "      <td>1 Vaga</td>\n",
       "      <td>Ponte Marcos Freire II, 56 - Marcos Freire II, Nossa Senhora do Socorro - SE</td>\n",
       "    </tr>\n",
       "    <tr>\n",
       "      <th>4</th>\n",
       "      <td>Apartamento com 3 Quartos à Venda, 95m²</td>\n",
       "      <td>R$ 485.000</td>\n",
       "      <td>95</td>\n",
       "      <td>3 Quartos</td>\n",
       "      <td>3 Banheiros</td>\n",
       "      <td>2 Vagas</td>\n",
       "      <td>Avenida Presidente Kennedy, 432 - Piedade, Jaboatão dos Guararapes - PE</td>\n",
       "    </tr>\n",
       "    <tr>\n",
       "      <th>...</th>\n",
       "      <td>...</td>\n",
       "      <td>...</td>\n",
       "      <td>...</td>\n",
       "      <td>...</td>\n",
       "      <td>...</td>\n",
       "      <td>...</td>\n",
       "      <td>...</td>\n",
       "    </tr>\n",
       "    <tr>\n",
       "      <th>8925</th>\n",
       "      <td>Apartamento com 2 Quartos à Venda, 46m²</td>\n",
       "      <td>R$ 265.000</td>\n",
       "      <td>46</td>\n",
       "      <td>2 Quartos</td>\n",
       "      <td>1 Banheiro</td>\n",
       "      <td>1 Vaga</td>\n",
       "      <td>Rua Cravinhos, 0 - Jardim Paulistano, Ribeirão Preto - SP</td>\n",
       "    </tr>\n",
       "    <tr>\n",
       "      <th>8926</th>\n",
       "      <td>Apartamento com Quarto à Venda, 56m²</td>\n",
       "      <td>R$ 640.000</td>\n",
       "      <td>56</td>\n",
       "      <td>1 Quarto</td>\n",
       "      <td>2 Banheiros</td>\n",
       "      <td>1 Vaga</td>\n",
       "      <td>Avenida Wladimir Meirelles Ferreira, 0 - Jardim Botânico, Ribeirão Preto - SP</td>\n",
       "    </tr>\n",
       "    <tr>\n",
       "      <th>8927</th>\n",
       "      <td>Casa de condomínio com 3 Quartos à Venda, 130m²</td>\n",
       "      <td>R$ 650.000</td>\n",
       "      <td>130</td>\n",
       "      <td>3 Quartos</td>\n",
       "      <td>1 Banheiro</td>\n",
       "      <td>2 Vagas</td>\n",
       "      <td>Bonfim Paulista, Ribeirão Preto - SP</td>\n",
       "    </tr>\n",
       "    <tr>\n",
       "      <th>8928</th>\n",
       "      <td>Apartamento com 3 Quartos à Venda, 118m²</td>\n",
       "      <td>R$ 600.000</td>\n",
       "      <td>118</td>\n",
       "      <td>3 Quartos</td>\n",
       "      <td>3 Banheiros</td>\n",
       "      <td>1 Vaga</td>\n",
       "      <td>Rua Humaitá, 0 - Santa Cruz do José Jacques, Ribeirão Preto - SP</td>\n",
       "    </tr>\n",
       "    <tr>\n",
       "      <th>8929</th>\n",
       "      <td>Casa de condomínio com 3 Quartos à Venda, 272m²</td>\n",
       "      <td>R$ 1.500.000</td>\n",
       "      <td>272</td>\n",
       "      <td>3 Quartos</td>\n",
       "      <td>4 Banheiros</td>\n",
       "      <td>5 Vagas</td>\n",
       "      <td>Rua Arlindo Rivoiro, 0 - Recreio das Acácias, Ribeirão Preto - SP</td>\n",
       "    </tr>\n",
       "  </tbody>\n",
       "</table>\n",
       "<p>8930 rows × 7 columns</p>\n",
       "</div>"
      ],
      "text/plain": [
       "                                               titulo  \\\n",
       "0            Apartamento com 3 Quartos à Venda, 150m²   \n",
       "1                    Casa com 3 Quartos à Venda, 74m²   \n",
       "2                   Casa com 3 Quartos à Venda, 450m²   \n",
       "3                   Casa com 3 Quartos à Venda, 110m²   \n",
       "4             Apartamento com 3 Quartos à Venda, 95m²   \n",
       "...                                               ...   \n",
       "8925          Apartamento com 2 Quartos à Venda, 46m²   \n",
       "8926             Apartamento com Quarto à Venda, 56m²   \n",
       "8927  Casa de condomínio com 3 Quartos à Venda, 130m²   \n",
       "8928         Apartamento com 3 Quartos à Venda, 118m²   \n",
       "8929  Casa de condomínio com 3 Quartos à Venda, 272m²   \n",
       "\n",
       "                                    preco area    quartos    banheiros  \\\n",
       "0     R$ 320.000\\nPreço abaixo do mercado  150  3 Quartos  4 Banheiros   \n",
       "1                               R$ 98.556   74  3 Quartos  2 Banheiros   \n",
       "2                              R$ 550.000  450  3 Quartos  5 Banheiros   \n",
       "3                              R$ 230.000  110  3 Quartos  2 Banheiros   \n",
       "4                              R$ 485.000   95  3 Quartos  3 Banheiros   \n",
       "...                                   ...  ...        ...          ...   \n",
       "8925                           R$ 265.000   46  2 Quartos   1 Banheiro   \n",
       "8926                           R$ 640.000   56   1 Quarto  2 Banheiros   \n",
       "8927                           R$ 650.000  130  3 Quartos   1 Banheiro   \n",
       "8928                           R$ 600.000  118  3 Quartos  3 Banheiros   \n",
       "8929                         R$ 1.500.000  272  3 Quartos  4 Banheiros   \n",
       "\n",
       "       garagem  \\\n",
       "0      4 Vagas   \n",
       "1      3 Vagas   \n",
       "2     10 Vagas   \n",
       "3       1 Vaga   \n",
       "4      2 Vagas   \n",
       "...        ...   \n",
       "8925    1 Vaga   \n",
       "8926    1 Vaga   \n",
       "8927   2 Vagas   \n",
       "8928    1 Vaga   \n",
       "8929   5 Vagas   \n",
       "\n",
       "                                                                           endereco  \n",
       "0                             Travessa Felício, 41 - Cascadura, Rio de Janeiro - RJ  \n",
       "1                                  Rua José Bolonha, 547 - Igacaba, Pedregulho - SP  \n",
       "2                    Avenida Ponte Alta Norte, 08 - Ponte Alta Norte, Brasília - DF  \n",
       "3      Ponte Marcos Freire II, 56 - Marcos Freire II, Nossa Senhora do Socorro - SE  \n",
       "4           Avenida Presidente Kennedy, 432 - Piedade, Jaboatão dos Guararapes - PE  \n",
       "...                                                                             ...  \n",
       "8925                      Rua Cravinhos, 0 - Jardim Paulistano, Ribeirão Preto - SP  \n",
       "8926  Avenida Wladimir Meirelles Ferreira, 0 - Jardim Botânico, Ribeirão Preto - SP  \n",
       "8927                                           Bonfim Paulista, Ribeirão Preto - SP  \n",
       "8928               Rua Humaitá, 0 - Santa Cruz do José Jacques, Ribeirão Preto - SP  \n",
       "8929              Rua Arlindo Rivoiro, 0 - Recreio das Acácias, Ribeirão Preto - SP  \n",
       "\n",
       "[8930 rows x 7 columns]"
      ]
     },
     "execution_count": 9,
     "metadata": {},
     "output_type": "execute_result"
    }
   ],
   "source": [
    "df = pd.read_csv('imoveis_br.csv', index_col=0 )\n",
    "df = df.drop([99, 1181, 3248, 3255, 5117, 5130, 5285, 5380, 5511, 5754, 7611, 7770,\n",
    "       7943, 8562, 8945, 9631]) #removendo info de terrenos/lotes\n",
    "df = df.reset_index(drop=True)\n",
    "\n",
    "\n",
    "#verificando\n",
    "df"
   ]
  },
  {
   "cell_type": "code",
   "execution_count": 10,
   "metadata": {},
   "outputs": [
    {
     "data": {
      "text/plain": [
       "titulo       object\n",
       "preco        object\n",
       "area         object\n",
       "quartos      object\n",
       "banheiros    object\n",
       "garagem      object\n",
       "endereco     object\n",
       "dtype: object"
      ]
     },
     "execution_count": 10,
     "metadata": {},
     "output_type": "execute_result"
    }
   ],
   "source": [
    "df.dtypes"
   ]
  },
  {
   "cell_type": "markdown",
   "metadata": {},
   "source": [
    "3.2 - LIMPEZA DA FEATURE 'TITULO'"
   ]
  },
  {
   "cell_type": "code",
   "execution_count": 11,
   "metadata": {},
   "outputs": [
    {
     "data": {
      "text/plain": [
       "0              Apartamento com 3 Quartos à Venda, 150m²\n",
       "1                      Casa com 3 Quartos à Venda, 74m²\n",
       "2                     Casa com 3 Quartos à Venda, 450m²\n",
       "3                     Casa com 3 Quartos à Venda, 110m²\n",
       "4               Apartamento com 3 Quartos à Venda, 95m²\n",
       "                             ...                       \n",
       "8925            Apartamento com 2 Quartos à Venda, 46m²\n",
       "8926               Apartamento com Quarto à Venda, 56m²\n",
       "8927    Casa de condomínio com 3 Quartos à Venda, 130m²\n",
       "8928           Apartamento com 3 Quartos à Venda, 118m²\n",
       "8929    Casa de condomínio com 3 Quartos à Venda, 272m²\n",
       "Name: titulo, Length: 8930, dtype: object"
      ]
     },
     "execution_count": 11,
     "metadata": {},
     "output_type": "execute_result"
    }
   ],
   "source": [
    "df['titulo']"
   ]
  },
  {
   "cell_type": "code",
   "execution_count": 12,
   "metadata": {},
   "outputs": [
    {
     "data": {
      "text/plain": [
       "str"
      ]
     },
     "execution_count": 12,
     "metadata": {},
     "output_type": "execute_result"
    }
   ],
   "source": [
    "#tipo de dado armazenado\n",
    "type(df['titulo'][0])"
   ]
  },
  {
   "cell_type": "markdown",
   "metadata": {},
   "source": [
    "É esperado e desejado que o título seja, de fato, uma string. Quando a isso a coluna está adequada. Farei apenas uma mudança estética na coluna para melhor leitura."
   ]
  },
  {
   "cell_type": "code",
   "execution_count": 13,
   "metadata": {},
   "outputs": [],
   "source": [
    "#substituindo \",\" por \" com\"\n",
    "titulo = []\n",
    "for t in df['titulo']:\n",
    "    t = t.replace(\",\", \" com\")\n",
    "    titulo.append(t)"
   ]
  },
  {
   "cell_type": "code",
   "execution_count": 14,
   "metadata": {},
   "outputs": [],
   "source": [
    "df['titulo'] = titulo\n",
    "df['titulo'] = df['titulo'].astype(str)"
   ]
  },
  {
   "cell_type": "markdown",
   "metadata": {},
   "source": [
    "3.3 - LIMPEZA DA FEATURE 'PRECO'"
   ]
  },
  {
   "cell_type": "code",
   "execution_count": 15,
   "metadata": {},
   "outputs": [
    {
     "data": {
      "text/plain": [
       "0       R$ 320.000\\nPreço abaixo do mercado\n",
       "1                                 R$ 98.556\n",
       "2                                R$ 550.000\n",
       "3                                R$ 230.000\n",
       "4                                R$ 485.000\n",
       "                       ...                 \n",
       "8925                             R$ 265.000\n",
       "8926                             R$ 640.000\n",
       "8927                             R$ 650.000\n",
       "8928                             R$ 600.000\n",
       "8929                           R$ 1.500.000\n",
       "Name: preco, Length: 8930, dtype: object"
      ]
     },
     "execution_count": 15,
     "metadata": {},
     "output_type": "execute_result"
    }
   ],
   "source": [
    "df[\"preco\"]"
   ]
  },
  {
   "cell_type": "code",
   "execution_count": 16,
   "metadata": {},
   "outputs": [
    {
     "data": {
      "text/plain": [
       "str"
      ]
     },
     "execution_count": 16,
     "metadata": {},
     "output_type": "execute_result"
    }
   ],
   "source": [
    "#tipo armazenado\n",
    "type(df[\"preco\"][0])"
   ]
  },
  {
   "cell_type": "markdown",
   "metadata": {},
   "source": [
    "É esperado que a feature 'preco' seja do tipo numérico (float) para isso é necessário limpar os 'R$' e 'Preço abaixo do mercado'."
   ]
  },
  {
   "cell_type": "code",
   "execution_count": 17,
   "metadata": {},
   "outputs": [],
   "source": [
    "#removendo cifrão\n",
    "preco = [p.replace(\"R$ \",\"\") for p in df[\"preco\"]]\n",
    "preco = [p.replace(\"\\nPreço abaixo do mercado\", \"\") for p in preco]\n",
    "\n",
    "\n",
    "df[\"preco\"] = preco"
   ]
  },
  {
   "cell_type": "code",
   "execution_count": 18,
   "metadata": {},
   "outputs": [
    {
     "data": {
      "text/plain": [
       "0         320.000\n",
       "1          98.556\n",
       "2         550.000\n",
       "3         230.000\n",
       "4         485.000\n",
       "          ...    \n",
       "8925      265.000\n",
       "8926      640.000\n",
       "8927      650.000\n",
       "8928      600.000\n",
       "8929    1.500.000\n",
       "Name: preco, Length: 8930, dtype: object"
      ]
     },
     "execution_count": 18,
     "metadata": {},
     "output_type": "execute_result"
    }
   ],
   "source": [
    "#Verificando\n",
    "df[\"preco\"]\n"
   ]
  },
  {
   "cell_type": "code",
   "execution_count": 19,
   "metadata": {},
   "outputs": [
    {
     "data": {
      "text/plain": [
       "str"
      ]
     },
     "execution_count": 19,
     "metadata": {},
     "output_type": "execute_result"
    }
   ],
   "source": [
    "type(df[\"preco\"][0])"
   ]
  },
  {
   "cell_type": "markdown",
   "metadata": {},
   "source": [
    "A aparência dos dados contidos em 'preco' está correta, porém o tipo de dado não é o adequado ainda."
   ]
  },
  {
   "cell_type": "code",
   "execution_count": 20,
   "metadata": {},
   "outputs": [
    {
     "data": {
      "text/plain": [
       "0         320.000\n",
       "1          98.556\n",
       "2         550.000\n",
       "3         230.000\n",
       "4         485.000\n",
       "          ...    \n",
       "8925      265.000\n",
       "8926      640.000\n",
       "8927      650.000\n",
       "8928      600.000\n",
       "8929    1.500.000\n",
       "Name: preco, Length: 8930, dtype: object"
      ]
     },
     "execution_count": 20,
     "metadata": {},
     "output_type": "execute_result"
    }
   ],
   "source": [
    "df[\"preco\"]"
   ]
  },
  {
   "cell_type": "code",
   "execution_count": 21,
   "metadata": {},
   "outputs": [],
   "source": [
    "#Necessário retirar o ponto para comunicar a dimensão correta dos dados\n",
    "df[\"preco\"] = [p.replace(\".\",\"\") for p in df[\"preco\"]]\n",
    "df[\"preco\"] = df[\"preco\"].astype(float)"
   ]
  },
  {
   "cell_type": "code",
   "execution_count": 22,
   "metadata": {},
   "outputs": [
    {
     "data": {
      "text/plain": [
       "0        320000.0\n",
       "1         98556.0\n",
       "2        550000.0\n",
       "3        230000.0\n",
       "4        485000.0\n",
       "          ...    \n",
       "8925     265000.0\n",
       "8926     640000.0\n",
       "8927     650000.0\n",
       "8928     600000.0\n",
       "8929    1500000.0\n",
       "Name: preco, Length: 8930, dtype: float64"
      ]
     },
     "execution_count": 22,
     "metadata": {},
     "output_type": "execute_result"
    }
   ],
   "source": [
    "df[\"preco\"]"
   ]
  },
  {
   "cell_type": "markdown",
   "metadata": {},
   "source": [
    "Dados agora estão no formato correto."
   ]
  },
  {
   "cell_type": "markdown",
   "metadata": {},
   "source": [
    "3.4 - LIMPEZA DA FEATURE 'area'"
   ]
  },
  {
   "cell_type": "code",
   "execution_count": 23,
   "metadata": {},
   "outputs": [
    {
     "data": {
      "text/plain": [
       "0       150\n",
       "1        74\n",
       "2       450\n",
       "3       110\n",
       "4        95\n",
       "       ... \n",
       "8925     46\n",
       "8926     56\n",
       "8927    130\n",
       "8928    118\n",
       "8929    272\n",
       "Name: area, Length: 8930, dtype: object"
      ]
     },
     "execution_count": 23,
     "metadata": {},
     "output_type": "execute_result"
    }
   ],
   "source": [
    "df['area']"
   ]
  },
  {
   "cell_type": "code",
   "execution_count": 24,
   "metadata": {},
   "outputs": [
    {
     "data": {
      "text/plain": [
       "str"
      ]
     },
     "execution_count": 24,
     "metadata": {},
     "output_type": "execute_result"
    }
   ],
   "source": [
    "#verificando o tipo de dado\n",
    "type(df['area'][0])"
   ]
  },
  {
   "cell_type": "markdown",
   "metadata": {},
   "source": [
    "Apesar de termos número inteiros na coluna, o tipo de dado delas está como str. "
   ]
  },
  {
   "cell_type": "code",
   "execution_count": 25,
   "metadata": {},
   "outputs": [],
   "source": [
    "#fazendo a mudança do tipo de dados e salvando\n",
    "df['area'] = df['area'].astype(int)"
   ]
  },
  {
   "cell_type": "code",
   "execution_count": 26,
   "metadata": {},
   "outputs": [
    {
     "data": {
      "text/plain": [
       "numpy.int32"
      ]
     },
     "execution_count": 26,
     "metadata": {},
     "output_type": "execute_result"
    }
   ],
   "source": [
    "#verificando\n",
    "type(df['area'][0])"
   ]
  },
  {
   "cell_type": "markdown",
   "metadata": {},
   "source": [
    "3.5 - LIMPEZA DA  FEATURE 'quartos'"
   ]
  },
  {
   "cell_type": "code",
   "execution_count": 27,
   "metadata": {},
   "outputs": [
    {
     "data": {
      "text/plain": [
       "0       3 Quartos\n",
       "1       3 Quartos\n",
       "2       3 Quartos\n",
       "3       3 Quartos\n",
       "4       3 Quartos\n",
       "          ...    \n",
       "8925    2 Quartos\n",
       "8926     1 Quarto\n",
       "8927    3 Quartos\n",
       "8928    3 Quartos\n",
       "8929    3 Quartos\n",
       "Name: quartos, Length: 8930, dtype: object"
      ]
     },
     "execution_count": 27,
     "metadata": {},
     "output_type": "execute_result"
    }
   ],
   "source": [
    "df['quartos']"
   ]
  },
  {
   "cell_type": "markdown",
   "metadata": {},
   "source": [
    "É preciso remover a string 'Quartos' e converter para o tipo int."
   ]
  },
  {
   "cell_type": "code",
   "execution_count": 28,
   "metadata": {},
   "outputs": [],
   "source": [
    "#removendo str\n",
    "df['quartos'] = [q.replace(\" Quartos\",\"\") for q in df['quartos']]\n",
    "df['quartos'] = [q.replace(\" Quarto\", \"\") for q in df['quartos']]\n",
    "df['quartos'] = [q.replace(\"--\", \"0\") for q in df['quartos']]"
   ]
  },
  {
   "cell_type": "markdown",
   "metadata": {},
   "source": [
    "Todas as ocorrências de 'quartos' == '--' são de terrenos/loteamentos indicando que não existem quartos nesses imoveis pois ainda não foram construídos."
   ]
  },
  {
   "cell_type": "code",
   "execution_count": 29,
   "metadata": {},
   "outputs": [
    {
     "data": {
      "text/plain": [
       "dtype('int32')"
      ]
     },
     "execution_count": 29,
     "metadata": {},
     "output_type": "execute_result"
    }
   ],
   "source": [
    "#mudando o tipo de dados\n",
    "df['quartos'] = df['quartos'].astype(int)\n",
    "df['quartos'].dtypes"
   ]
  },
  {
   "cell_type": "markdown",
   "metadata": {},
   "source": [
    "3.6 - LIMPEZA DA FEATURE 'BANHEIROS'"
   ]
  },
  {
   "cell_type": "code",
   "execution_count": 30,
   "metadata": {},
   "outputs": [
    {
     "data": {
      "text/plain": [
       "0       4 Banheiros\n",
       "1       2 Banheiros\n",
       "2       5 Banheiros\n",
       "3       2 Banheiros\n",
       "4       3 Banheiros\n",
       "           ...     \n",
       "8925     1 Banheiro\n",
       "8926    2 Banheiros\n",
       "8927     1 Banheiro\n",
       "8928    3 Banheiros\n",
       "8929    4 Banheiros\n",
       "Name: banheiros, Length: 8930, dtype: object"
      ]
     },
     "execution_count": 30,
     "metadata": {},
     "output_type": "execute_result"
    }
   ],
   "source": [
    "df['banheiros']"
   ]
  },
  {
   "cell_type": "code",
   "execution_count": 31,
   "metadata": {},
   "outputs": [],
   "source": [
    "#removendo as str\n",
    "df['banheiros'] = [q.replace(\" Banheiros\",\"\") for q in df['banheiros']]\n",
    "df['banheiros'] = [q.replace(\" Banheiro\", \"\") for q in df['banheiros']]\n",
    "df['banheiros'] = [q.replace(\"--\", \"0\") for q in df['banheiros']]"
   ]
  },
  {
   "cell_type": "markdown",
   "metadata": {},
   "source": [
    "Assim como na feature anterior temos '--' indicando loteamentos e terrenos. O tratamento seguiu o mesmo."
   ]
  },
  {
   "cell_type": "code",
   "execution_count": 32,
   "metadata": {},
   "outputs": [
    {
     "data": {
      "text/plain": [
       "dtype('int32')"
      ]
     },
     "execution_count": 32,
     "metadata": {},
     "output_type": "execute_result"
    }
   ],
   "source": [
    "#Mudando o tipo de dado\n",
    "df['banheiros'] = df['banheiros'].astype(int)\n",
    "df['banheiros'].dtypes"
   ]
  },
  {
   "cell_type": "markdown",
   "metadata": {},
   "source": [
    "3.7 - LIMPEZA DA FEATURE 'GARAGEM'"
   ]
  },
  {
   "cell_type": "code",
   "execution_count": 33,
   "metadata": {},
   "outputs": [
    {
     "data": {
      "text/plain": [
       "0        4 Vagas\n",
       "1        3 Vagas\n",
       "2       10 Vagas\n",
       "3         1 Vaga\n",
       "4        2 Vagas\n",
       "          ...   \n",
       "8925      1 Vaga\n",
       "8926      1 Vaga\n",
       "8927     2 Vagas\n",
       "8928      1 Vaga\n",
       "8929     5 Vagas\n",
       "Name: garagem, Length: 8930, dtype: object"
      ]
     },
     "execution_count": 33,
     "metadata": {},
     "output_type": "execute_result"
    }
   ],
   "source": [
    "df['garagem']"
   ]
  },
  {
   "cell_type": "code",
   "execution_count": 34,
   "metadata": {},
   "outputs": [],
   "source": [
    "df['garagem'] = [q.replace(\" Vagas\",\"\") for q in df['garagem']]\n",
    "df['garagem'] = [q.replace(\" Vaga\", \"\") for q in df['garagem']]\n",
    "df['garagem'] = [q.replace(\"--\", \"0\") for q in df['garagem']]"
   ]
  },
  {
   "cell_type": "code",
   "execution_count": 35,
   "metadata": {},
   "outputs": [
    {
     "data": {
      "text/plain": [
       "dtype('int32')"
      ]
     },
     "execution_count": 35,
     "metadata": {},
     "output_type": "execute_result"
    }
   ],
   "source": [
    "df['garagem'] = df['garagem'].astype(int)\n",
    "df['garagem'].dtypes"
   ]
  },
  {
   "cell_type": "markdown",
   "metadata": {},
   "source": [
    "3.8 - LIMPEZA DA FEATURE 'ENDERECO'\n",
    "\n",
    "Essa feature será dissolvida e outras duas novas adicionadas, são elas: Cidade e Estado."
   ]
  },
  {
   "cell_type": "code",
   "execution_count": 36,
   "metadata": {},
   "outputs": [
    {
     "data": {
      "text/plain": [
       "0                               Travessa Felício, 41 - Cascadura, Rio de Janeiro - RJ\n",
       "1                                    Rua José Bolonha, 547 - Igacaba, Pedregulho - SP\n",
       "2                      Avenida Ponte Alta Norte, 08 - Ponte Alta Norte, Brasília - DF\n",
       "3        Ponte Marcos Freire II, 56 - Marcos Freire II, Nossa Senhora do Socorro - SE\n",
       "4             Avenida Presidente Kennedy, 432 - Piedade, Jaboatão dos Guararapes - PE\n",
       "                                            ...                                      \n",
       "8925                        Rua Cravinhos, 0 - Jardim Paulistano, Ribeirão Preto - SP\n",
       "8926    Avenida Wladimir Meirelles Ferreira, 0 - Jardim Botânico, Ribeirão Preto - SP\n",
       "8927                                             Bonfim Paulista, Ribeirão Preto - SP\n",
       "8928                 Rua Humaitá, 0 - Santa Cruz do José Jacques, Ribeirão Preto - SP\n",
       "8929                Rua Arlindo Rivoiro, 0 - Recreio das Acácias, Ribeirão Preto - SP\n",
       "Name: endereco, Length: 8930, dtype: object"
      ]
     },
     "execution_count": 36,
     "metadata": {},
     "output_type": "execute_result"
    }
   ],
   "source": [
    "df['endereco']"
   ]
  },
  {
   "cell_type": "code",
   "execution_count": 37,
   "metadata": {},
   "outputs": [
    {
     "data": {
      "text/plain": [
       "0                               [Travessa Felício, 41 ,  Cascadura, Rio de Janeiro ,  RJ]\n",
       "1                                    [Rua José Bolonha, 547 ,  Igacaba, Pedregulho ,  SP]\n",
       "2                      [Avenida Ponte Alta Norte, 08 ,  Ponte Alta Norte, Brasília ,  DF]\n",
       "3        [Ponte Marcos Freire II, 56 ,  Marcos Freire II, Nossa Senhora do Socorro ,  SE]\n",
       "4             [Avenida Presidente Kennedy, 432 ,  Piedade, Jaboatão dos Guararapes ,  PE]\n",
       "                                              ...                                        \n",
       "8925                        [Rua Cravinhos, 0 ,  Jardim Paulistano, Ribeirão Preto ,  SP]\n",
       "8926    [Avenida Wladimir Meirelles Ferreira, 0 ,  Jardim Botânico, Ribeirão Preto ,  SP]\n",
       "8927                                              [Bonfim Paulista, Ribeirão Preto ,  SP]\n",
       "8928                 [Rua Humaitá, 0 ,  Santa Cruz do José Jacques, Ribeirão Preto ,  SP]\n",
       "8929                [Rua Arlindo Rivoiro, 0 ,  Recreio das Acácias, Ribeirão Preto ,  SP]\n",
       "Name: endereco, Length: 8930, dtype: object"
      ]
     },
     "execution_count": 37,
     "metadata": {},
     "output_type": "execute_result"
    }
   ],
   "source": [
    "ender_split = df['endereco'].str.split(\"-\")\n",
    "ender_split"
   ]
  },
  {
   "cell_type": "code",
   "execution_count": 38,
   "metadata": {},
   "outputs": [],
   "source": [
    "uf = []\n",
    "for i in ender_split:\n",
    "    uf.append(str(i[-1].strip()))\n"
   ]
  },
  {
   "cell_type": "code",
   "execution_count": 39,
   "metadata": {},
   "outputs": [
    {
     "data": {
      "text/html": [
       "<div>\n",
       "<style scoped>\n",
       "    .dataframe tbody tr th:only-of-type {\n",
       "        vertical-align: middle;\n",
       "    }\n",
       "\n",
       "    .dataframe tbody tr th {\n",
       "        vertical-align: top;\n",
       "    }\n",
       "\n",
       "    .dataframe thead th {\n",
       "        text-align: right;\n",
       "    }\n",
       "</style>\n",
       "<table border=\"1\" class=\"dataframe\">\n",
       "  <thead>\n",
       "    <tr style=\"text-align: right;\">\n",
       "      <th></th>\n",
       "      <th>titulo</th>\n",
       "      <th>preco</th>\n",
       "      <th>area</th>\n",
       "      <th>quartos</th>\n",
       "      <th>banheiros</th>\n",
       "      <th>garagem</th>\n",
       "      <th>endereco</th>\n",
       "      <th>UF</th>\n",
       "    </tr>\n",
       "  </thead>\n",
       "  <tbody>\n",
       "    <tr>\n",
       "      <th>0</th>\n",
       "      <td>Apartamento com 3 Quartos à Venda com 150m²</td>\n",
       "      <td>320000.0</td>\n",
       "      <td>150</td>\n",
       "      <td>3</td>\n",
       "      <td>4</td>\n",
       "      <td>4</td>\n",
       "      <td>Travessa Felício, 41 - Cascadura, Rio de Janeiro - RJ</td>\n",
       "      <td>RJ</td>\n",
       "    </tr>\n",
       "    <tr>\n",
       "      <th>1</th>\n",
       "      <td>Casa com 3 Quartos à Venda com 74m²</td>\n",
       "      <td>98556.0</td>\n",
       "      <td>74</td>\n",
       "      <td>3</td>\n",
       "      <td>2</td>\n",
       "      <td>3</td>\n",
       "      <td>Rua José Bolonha, 547 - Igacaba, Pedregulho - SP</td>\n",
       "      <td>SP</td>\n",
       "    </tr>\n",
       "    <tr>\n",
       "      <th>2</th>\n",
       "      <td>Casa com 3 Quartos à Venda com 450m²</td>\n",
       "      <td>550000.0</td>\n",
       "      <td>450</td>\n",
       "      <td>3</td>\n",
       "      <td>5</td>\n",
       "      <td>10</td>\n",
       "      <td>Avenida Ponte Alta Norte, 08 - Ponte Alta Norte, Brasília - DF</td>\n",
       "      <td>DF</td>\n",
       "    </tr>\n",
       "    <tr>\n",
       "      <th>3</th>\n",
       "      <td>Casa com 3 Quartos à Venda com 110m²</td>\n",
       "      <td>230000.0</td>\n",
       "      <td>110</td>\n",
       "      <td>3</td>\n",
       "      <td>2</td>\n",
       "      <td>1</td>\n",
       "      <td>Ponte Marcos Freire II, 56 - Marcos Freire II, Nossa Senhora do Socorro - SE</td>\n",
       "      <td>SE</td>\n",
       "    </tr>\n",
       "    <tr>\n",
       "      <th>4</th>\n",
       "      <td>Apartamento com 3 Quartos à Venda com 95m²</td>\n",
       "      <td>485000.0</td>\n",
       "      <td>95</td>\n",
       "      <td>3</td>\n",
       "      <td>3</td>\n",
       "      <td>2</td>\n",
       "      <td>Avenida Presidente Kennedy, 432 - Piedade, Jaboatão dos Guararapes - PE</td>\n",
       "      <td>PE</td>\n",
       "    </tr>\n",
       "    <tr>\n",
       "      <th>...</th>\n",
       "      <td>...</td>\n",
       "      <td>...</td>\n",
       "      <td>...</td>\n",
       "      <td>...</td>\n",
       "      <td>...</td>\n",
       "      <td>...</td>\n",
       "      <td>...</td>\n",
       "      <td>...</td>\n",
       "    </tr>\n",
       "    <tr>\n",
       "      <th>8925</th>\n",
       "      <td>Apartamento com 2 Quartos à Venda com 46m²</td>\n",
       "      <td>265000.0</td>\n",
       "      <td>46</td>\n",
       "      <td>2</td>\n",
       "      <td>1</td>\n",
       "      <td>1</td>\n",
       "      <td>Rua Cravinhos, 0 - Jardim Paulistano, Ribeirão Preto - SP</td>\n",
       "      <td>SP</td>\n",
       "    </tr>\n",
       "    <tr>\n",
       "      <th>8926</th>\n",
       "      <td>Apartamento com Quarto à Venda com 56m²</td>\n",
       "      <td>640000.0</td>\n",
       "      <td>56</td>\n",
       "      <td>1</td>\n",
       "      <td>2</td>\n",
       "      <td>1</td>\n",
       "      <td>Avenida Wladimir Meirelles Ferreira, 0 - Jardim Botânico, Ribeirão Preto - SP</td>\n",
       "      <td>SP</td>\n",
       "    </tr>\n",
       "    <tr>\n",
       "      <th>8927</th>\n",
       "      <td>Casa de condomínio com 3 Quartos à Venda com 130m²</td>\n",
       "      <td>650000.0</td>\n",
       "      <td>130</td>\n",
       "      <td>3</td>\n",
       "      <td>1</td>\n",
       "      <td>2</td>\n",
       "      <td>Bonfim Paulista, Ribeirão Preto - SP</td>\n",
       "      <td>SP</td>\n",
       "    </tr>\n",
       "    <tr>\n",
       "      <th>8928</th>\n",
       "      <td>Apartamento com 3 Quartos à Venda com 118m²</td>\n",
       "      <td>600000.0</td>\n",
       "      <td>118</td>\n",
       "      <td>3</td>\n",
       "      <td>3</td>\n",
       "      <td>1</td>\n",
       "      <td>Rua Humaitá, 0 - Santa Cruz do José Jacques, Ribeirão Preto - SP</td>\n",
       "      <td>SP</td>\n",
       "    </tr>\n",
       "    <tr>\n",
       "      <th>8929</th>\n",
       "      <td>Casa de condomínio com 3 Quartos à Venda com 272m²</td>\n",
       "      <td>1500000.0</td>\n",
       "      <td>272</td>\n",
       "      <td>3</td>\n",
       "      <td>4</td>\n",
       "      <td>5</td>\n",
       "      <td>Rua Arlindo Rivoiro, 0 - Recreio das Acácias, Ribeirão Preto - SP</td>\n",
       "      <td>SP</td>\n",
       "    </tr>\n",
       "  </tbody>\n",
       "</table>\n",
       "<p>8930 rows × 8 columns</p>\n",
       "</div>"
      ],
      "text/plain": [
       "                                                  titulo      preco  area  \\\n",
       "0            Apartamento com 3 Quartos à Venda com 150m²   320000.0   150   \n",
       "1                    Casa com 3 Quartos à Venda com 74m²    98556.0    74   \n",
       "2                   Casa com 3 Quartos à Venda com 450m²   550000.0   450   \n",
       "3                   Casa com 3 Quartos à Venda com 110m²   230000.0   110   \n",
       "4             Apartamento com 3 Quartos à Venda com 95m²   485000.0    95   \n",
       "...                                                  ...        ...   ...   \n",
       "8925          Apartamento com 2 Quartos à Venda com 46m²   265000.0    46   \n",
       "8926             Apartamento com Quarto à Venda com 56m²   640000.0    56   \n",
       "8927  Casa de condomínio com 3 Quartos à Venda com 130m²   650000.0   130   \n",
       "8928         Apartamento com 3 Quartos à Venda com 118m²   600000.0   118   \n",
       "8929  Casa de condomínio com 3 Quartos à Venda com 272m²  1500000.0   272   \n",
       "\n",
       "      quartos  banheiros  garagem  \\\n",
       "0           3          4        4   \n",
       "1           3          2        3   \n",
       "2           3          5       10   \n",
       "3           3          2        1   \n",
       "4           3          3        2   \n",
       "...       ...        ...      ...   \n",
       "8925        2          1        1   \n",
       "8926        1          2        1   \n",
       "8927        3          1        2   \n",
       "8928        3          3        1   \n",
       "8929        3          4        5   \n",
       "\n",
       "                                                                           endereco  \\\n",
       "0                             Travessa Felício, 41 - Cascadura, Rio de Janeiro - RJ   \n",
       "1                                  Rua José Bolonha, 547 - Igacaba, Pedregulho - SP   \n",
       "2                    Avenida Ponte Alta Norte, 08 - Ponte Alta Norte, Brasília - DF   \n",
       "3      Ponte Marcos Freire II, 56 - Marcos Freire II, Nossa Senhora do Socorro - SE   \n",
       "4           Avenida Presidente Kennedy, 432 - Piedade, Jaboatão dos Guararapes - PE   \n",
       "...                                                                             ...   \n",
       "8925                      Rua Cravinhos, 0 - Jardim Paulistano, Ribeirão Preto - SP   \n",
       "8926  Avenida Wladimir Meirelles Ferreira, 0 - Jardim Botânico, Ribeirão Preto - SP   \n",
       "8927                                           Bonfim Paulista, Ribeirão Preto - SP   \n",
       "8928               Rua Humaitá, 0 - Santa Cruz do José Jacques, Ribeirão Preto - SP   \n",
       "8929              Rua Arlindo Rivoiro, 0 - Recreio das Acácias, Ribeirão Preto - SP   \n",
       "\n",
       "      UF  \n",
       "0     RJ  \n",
       "1     SP  \n",
       "2     DF  \n",
       "3     SE  \n",
       "4     PE  \n",
       "...   ..  \n",
       "8925  SP  \n",
       "8926  SP  \n",
       "8927  SP  \n",
       "8928  SP  \n",
       "8929  SP  \n",
       "\n",
       "[8930 rows x 8 columns]"
      ]
     },
     "execution_count": 39,
     "metadata": {},
     "output_type": "execute_result"
    }
   ],
   "source": [
    "#Criando a feature UF\n",
    "df['UF'] = uf\n",
    "df"
   ]
  },
  {
   "cell_type": "code",
   "execution_count": 40,
   "metadata": {},
   "outputs": [
    {
     "data": {
      "text/plain": [
       "array(['RJ', 'SP', 'DF', 'SE', 'PE', 'MG', 'BA', 'RS', 'GO', 'SC', 'ES',\n",
       "       'PR', 'MA', 'PI', 'AL', 'MT', 'CE', 'AM', 'PB', 'PA', 'TO', 'RO',\n",
       "       'RN', 'Araçagy, MA', 'MS', 'AC', 'BR 116,', 'RR', 'Zona Rural, SP'],\n",
       "      dtype=object)"
      ]
     },
     "execution_count": 40,
     "metadata": {},
     "output_type": "execute_result"
    }
   ],
   "source": [
    "df['UF'].unique()"
   ]
  },
  {
   "cell_type": "markdown",
   "metadata": {},
   "source": [
    "Corrigindo estados com nomes errados."
   ]
  },
  {
   "cell_type": "code",
   "execution_count": 41,
   "metadata": {},
   "outputs": [],
   "source": [
    "#Substituindo os valores errados\n",
    "df['UF'].replace(\"Araçagy, MA\", \"MA\", inplace=True)\n",
    "df['UF'].replace(\"Zona Rural, SP\", \"SP\", inplace=True)\n",
    "df['UF'].replace(\"BR 116,\", \"RS\", inplace=True)\n"
   ]
  },
  {
   "cell_type": "code",
   "execution_count": 42,
   "metadata": {},
   "outputs": [
    {
     "data": {
      "text/plain": [
       "['Rio de Janeiro ', ' RJ']"
      ]
     },
     "execution_count": 42,
     "metadata": {},
     "output_type": "execute_result"
    }
   ],
   "source": [
    "#Criando a feature cidade\n",
    "cidade_bairro = df['endereco'].str.split(\",\")\n",
    "\n",
    "cidade_uf = []\n",
    "for i in cidade_bairro:\n",
    "    cidade_uf.append(i[-1].strip())\n",
    "\n",
    "cidade_uf[0].split('-')"
   ]
  },
  {
   "cell_type": "code",
   "execution_count": 43,
   "metadata": {},
   "outputs": [],
   "source": [
    "cidade = []\n",
    "for c in cidade_uf:\n",
    "    cidade.append(str(c.split(\"-\")[0].strip()))"
   ]
  },
  {
   "cell_type": "code",
   "execution_count": 44,
   "metadata": {},
   "outputs": [],
   "source": [
    "#feature cidade\n",
    "df['cidade'] = cidade\n",
    "df['cidade'] = df['cidade'].astype(str)"
   ]
  },
  {
   "cell_type": "code",
   "execution_count": 45,
   "metadata": {},
   "outputs": [],
   "source": [
    "#resolvendo problemas de dados errados em 'cidade'\n",
    "df['cidade'].replace(\"Araçagy, MA\", \"MA\", inplace=True)\n",
    "df['cidade'].replace(\"Zona Rural, SP\", \"SP\", inplace=True)\n",
    "df['cidade'].replace(\"\", \"Nova Petrópolis\", inplace=True)\n",
    "df['endereco'].replace(\"BR 116,\", \"BR 116, Nova Petrópolis - RS\", inplace=True)\n"
   ]
  },
  {
   "cell_type": "markdown",
   "metadata": {},
   "source": [
    "3.9 - CRIANDO A FEATURE 'TIPO_IMOVEL'"
   ]
  },
  {
   "cell_type": "code",
   "execution_count": 46,
   "metadata": {},
   "outputs": [],
   "source": [
    "#Extraindo a informação 'tipo' da coluna 'titulo'\n",
    "tipo = []\n",
    "titulos = df['titulo'].str.split(\" \")\n",
    "\n",
    "for t in titulos:\n",
    "    tipo.append(str(t[0].strip())) #string"
   ]
  },
  {
   "cell_type": "code",
   "execution_count": 47,
   "metadata": {},
   "outputs": [],
   "source": [
    "#atribuindo a nova feature ao dataframe\n",
    "df[\"tipo_imovel\"] = tipo"
   ]
  },
  {
   "cell_type": "markdown",
   "metadata": {},
   "source": [
    "'Prédio/Edifício', 'Prédio/Edificio' e 'Edifício' referem-se a mesma coisa. 'Ponto' e 'Imóvel' se referem, também, a mesma coisa. Agrupei 'Flat' e 'Apartamento' uma vez que são, basicamente, o mesmo tipo de imóvel. Outras modificações também foram feitas para evitar poluição."
   ]
  },
  {
   "cell_type": "code",
   "execution_count": 48,
   "metadata": {},
   "outputs": [],
   "source": [
    "df['tipo_imovel'].replace(\"Flat\",\"Apartamento\", inplace=True)\n",
    "df['tipo_imovel'].replace(\"Loft\",\"Apartamento\", inplace=True)\n",
    "df['tipo_imovel'].replace(\"Kitnet/Conjugado\",\"Casa\", inplace=True)\n",
    "\n"
   ]
  },
  {
   "cell_type": "markdown",
   "metadata": {},
   "source": [
    "FILTRANDO CASAS E APARTAMENTOS\n",
    "\n",
    "O principal objeto de interesse dessa análise são os imóveis do tipo casa ou apartamento. Por isso vamos selecionar todas as obervações desses dois tipos."
   ]
  },
  {
   "cell_type": "code",
   "execution_count": 49,
   "metadata": {},
   "outputs": [],
   "source": [
    "drop_linhas = df.loc[(df['tipo_imovel'] != 'Casa') & (df['tipo_imovel'] !='Apartamento')].index"
   ]
  },
  {
   "cell_type": "code",
   "execution_count": 50,
   "metadata": {},
   "outputs": [],
   "source": [
    "df = df.drop(drop_linhas)"
   ]
  },
  {
   "cell_type": "markdown",
   "metadata": {},
   "source": [
    "4 - EXPORTANDO O DATAFRAME PRONTO"
   ]
  },
  {
   "cell_type": "code",
   "execution_count": 51,
   "metadata": {},
   "outputs": [],
   "source": [
    "#salvando o dataframe pronto pra uso\n",
    "df.to_csv(\"imoveis_brasil.csv\", sep=\",\", encoding='utf-8',index=False)"
   ]
  },
  {
   "cell_type": "markdown",
   "metadata": {},
   "source": [
    "5 - DICIONÁRIO DE DADOS\n",
    "\n",
    "Essa seção é dedicada a fornecer mais informações sobre o dataset criado.\n",
    "\n",
    "\n",
    "1 - titulo = descrição simplificada do imóvel. **Datatype** = string\n",
    "\n",
    "2 - preco = Preço do imóvel. Separador de decimal está como ponto.  **Datatype** = float\n",
    "\n",
    "3 - area = área do imóvel refere-se à área construída.  **Datatype** = int\n",
    "\n",
    "4 - quartos = quantidade de quartos disponíveis no imóvel. **Datatype** = int\n",
    "\n",
    "5 - banheiros = quantidade de banheiros disponíveis no imóvel. **Datatype** = int\n",
    "\n",
    "6 - garagem = quantidade de vagas na garagem disponíveis no imóvel. **Datatype** = int\n",
    "\n",
    "7 - endereco = endereço completo do imóvel. **Datatype** = string\n",
    "\n",
    "8 - UF = estado onde está localizado o imóvel. **Datatype** = string\n",
    "\n",
    "9 - tipo_imovel = classificação do imóvel quanto ao tipo, se casa ou apartamento. **Datatype** = string\n",
    "\n",
    "\n"
   ]
  },
  {
   "cell_type": "markdown",
   "metadata": {},
   "source": [
    "6 - ANÁLISE EXPLORATÓRIA DE DADOS\n",
    "\n",
    "Seção para análise exploratória afim de gerar inteligência a partir dos dados obtidos. Nessa etapa busco conhecer melhor os dados e responder perguntas que possam ser pertinentes como:\n",
    "\n",
    "- Quais o tipos de imóveis com maiores valores?\n",
    "- Quais os estados com média de imóveis mais caros? E os mais baratos?\n",
    "- Qual a influência da quantidade de quartos no valor dos imóveis? Quando mais quartos mais caros?\n",
    "- Área é o melhor preditor de preço? \n",
    "- Qual a média de preço com base no tipo de imóvel? Quais são os imóveis com maior média? E os com menores médias?\n",
    "- Qual seria o melhor estado para um cidadão brasileiro com renda média? \n"
   ]
  },
  {
   "cell_type": "markdown",
   "metadata": {},
   "source": [
    "6.1 - ANÁLISE UNIVARIADA\n",
    "\n",
    "Entendimento mais aprofundado de cada feature do dataset."
   ]
  },
  {
   "cell_type": "markdown",
   "metadata": {},
   "source": [
    "6.2 - PREÇO\n",
    "\n",
    "A primeira feature do dataset é apenas o título do anúncio do imóvel no site, não necessariamente traz alguma informação relevante então começarei a análise pela feature 'preco'."
   ]
  },
  {
   "cell_type": "code",
   "execution_count": 120,
   "metadata": {},
   "outputs": [
    {
     "data": {
      "text/plain": [
       "0        320000.0\n",
       "1         98556.0\n",
       "2        550000.0\n",
       "3        230000.0\n",
       "4        485000.0\n",
       "          ...    \n",
       "8925     265000.0\n",
       "8926     640000.0\n",
       "8927     650000.0\n",
       "8928     600000.0\n",
       "8929    1500000.0\n",
       "Name: preco, Length: 7030, dtype: float64"
      ]
     },
     "execution_count": 120,
     "metadata": {},
     "output_type": "execute_result"
    }
   ],
   "source": [
    "#informação estatística básica\n",
    "df['preco']"
   ]
  },
  {
   "cell_type": "code",
   "execution_count": 53,
   "metadata": {},
   "outputs": [
    {
     "data": {
      "text/html": [
       "<div>\n",
       "<style scoped>\n",
       "    .dataframe tbody tr th:only-of-type {\n",
       "        vertical-align: middle;\n",
       "    }\n",
       "\n",
       "    .dataframe tbody tr th {\n",
       "        vertical-align: top;\n",
       "    }\n",
       "\n",
       "    .dataframe thead th {\n",
       "        text-align: right;\n",
       "    }\n",
       "</style>\n",
       "<table border=\"1\" class=\"dataframe\">\n",
       "  <thead>\n",
       "    <tr style=\"text-align: right;\">\n",
       "      <th></th>\n",
       "      <th>titulo</th>\n",
       "      <th>preco</th>\n",
       "      <th>area</th>\n",
       "      <th>quartos</th>\n",
       "      <th>banheiros</th>\n",
       "      <th>garagem</th>\n",
       "      <th>endereco</th>\n",
       "      <th>UF</th>\n",
       "      <th>cidade</th>\n",
       "      <th>tipo_imovel</th>\n",
       "    </tr>\n",
       "  </thead>\n",
       "  <tbody>\n",
       "    <tr>\n",
       "      <th>1388</th>\n",
       "      <td>Casa com 3 Quartos à Venda com 345m²</td>\n",
       "      <td>105000042.0</td>\n",
       "      <td>345</td>\n",
       "      <td>3</td>\n",
       "      <td>4</td>\n",
       "      <td>2</td>\n",
       "      <td>Avenida Maria José Santos, 222 - Anizio Amancio de Oliveira, Itabaiana - SE</td>\n",
       "      <td>SE</td>\n",
       "      <td>Itabaiana</td>\n",
       "      <td>Casa</td>\n",
       "    </tr>\n",
       "  </tbody>\n",
       "</table>\n",
       "</div>"
      ],
      "text/plain": [
       "                                    titulo        preco  area  quartos  \\\n",
       "1388  Casa com 3 Quartos à Venda com 345m²  105000042.0   345        3   \n",
       "\n",
       "      banheiros  garagem  \\\n",
       "1388          4        2   \n",
       "\n",
       "                                                                         endereco  \\\n",
       "1388  Avenida Maria José Santos, 222 - Anizio Amancio de Oliveira, Itabaiana - SE   \n",
       "\n",
       "      UF     cidade tipo_imovel  \n",
       "1388  SE  Itabaiana        Casa  "
      ]
     },
     "execution_count": 53,
     "metadata": {},
     "output_type": "execute_result"
    }
   ],
   "source": [
    "df.loc[df['preco']==105000042.0]"
   ]
  },
  {
   "cell_type": "code",
   "execution_count": 54,
   "metadata": {},
   "outputs": [
    {
     "data": {
      "image/png": "[encoded data removed]",
      "text/plain": [
       "<Figure size 640x480 with 1 Axes>"
      ]
     },
     "metadata": {},
     "output_type": "display_data"
    }
   ],
   "source": [
    "_=sns.boxplot(df['preco'])"
   ]
  },
  {
   "cell_type": "code",
   "execution_count": 55,
   "metadata": {},
   "outputs": [
    {
     "data": {
      "image/png": "[encoded data removed]",
      "text/plain": [
       "<Figure size 800x600 with 1 Axes>"
      ]
     },
     "metadata": {},
     "output_type": "display_data"
    }
   ],
   "source": [
    "_=plt.figure(figsize=(8,6))\n",
    "_=plt.plot(df['preco'])"
   ]
  },
  {
   "cell_type": "code",
   "execution_count": 56,
   "metadata": {},
   "outputs": [
    {
     "data": {
      "image/png": "[encoded data removed]",
      "text/plain": [
       "<Figure size 800x600 with 1 Axes>"
      ]
     },
     "metadata": {},
     "output_type": "display_data"
    }
   ],
   "source": [
    "_=plt.figure(figsize=(8,6))\n",
    "_=sns.boxplot(df['preco'])\n"
   ]
  },
  {
   "cell_type": "code",
   "execution_count": 57,
   "metadata": {},
   "outputs": [],
   "source": [
    "#Coeficiente de variação\n",
    "def cv(a):\n",
    "    media = a.mean()\n",
    "    std = a.std()\n",
    "    return (std/media)*100"
   ]
  },
  {
   "cell_type": "code",
   "execution_count": 58,
   "metadata": {},
   "outputs": [
    {
     "data": {
      "text/plain": [
       "173.22080079089417"
      ]
     },
     "execution_count": 58,
     "metadata": {},
     "output_type": "execute_result"
    }
   ],
   "source": [
    "cv(df['preco'])"
   ]
  },
  {
   "cell_type": "markdown",
   "metadata": {},
   "source": [
    "Temos uma Heterogeneidade enorme com um cv de 173% para a coluna de preço."
   ]
  },
  {
   "cell_type": "code",
   "execution_count": 59,
   "metadata": {},
   "outputs": [
    {
     "data": {
      "text/plain": [
       "count    7.030000e+03\n",
       "mean     1.132181e+06\n",
       "std      1.961173e+06\n",
       "min      1.500000e+04\n",
       "25%      3.700000e+05\n",
       "50%      6.500000e+05\n",
       "75%      1.277000e+06\n",
       "max      1.050000e+08\n",
       "Name: preco, dtype: float64"
      ]
     },
     "execution_count": 59,
     "metadata": {},
     "output_type": "execute_result"
    }
   ],
   "source": [
    "df['preco'].describe()"
   ]
  },
  {
   "cell_type": "markdown",
   "metadata": {},
   "source": [
    "Com desvio padrão de 1.3x10^6 indica que os dados estão muito dispersos em torno da média, a razão para isso é provavelmente a diferença de natureza entre os imóveis, temos casas e apartamentos de padrões socioeconômicos diferentes.\n"
   ]
  },
  {
   "cell_type": "code",
   "execution_count": 60,
   "metadata": {},
   "outputs": [],
   "source": [
    "#Função para quantificar outliers\n",
    "def outliers(dados):\n",
    "\n",
    "  '''Número de outliers'''\n",
    "\n",
    "  primeiro_quantil = np.percentile(dados, 25)\n",
    "  terceiro_quantil = np.percentile(dados, 75)\n",
    "  IQR = terceiro_quantil-primeiro_quantil\n",
    "\n",
    "  #limite superior\n",
    "  Ls = terceiro_quantil+1.5*IQR\n",
    "  #limite inferior\n",
    "  Li = primeiro_quantil-1.5*IQR\n",
    "  \n",
    "  outlier = [x for x in dados if Li > x or x > Ls]\n",
    "\n",
    "  return len(outlier)"
   ]
  },
  {
   "cell_type": "code",
   "execution_count": 61,
   "metadata": {},
   "outputs": [
    {
     "data": {
      "text/plain": [
       "598"
      ]
     },
     "execution_count": 61,
     "metadata": {},
     "output_type": "execute_result"
    }
   ],
   "source": [
    "outliers(df['preco'])"
   ]
  },
  {
   "cell_type": "code",
   "execution_count": 62,
   "metadata": {},
   "outputs": [
    {
     "data": {
      "text/plain": [
       "8.506401137980085"
      ]
     },
     "execution_count": 62,
     "metadata": {},
     "output_type": "execute_result"
    }
   ],
   "source": [
    "(598/7030)*100"
   ]
  },
  {
   "cell_type": "markdown",
   "metadata": {},
   "source": [
    "Temos 598 outliers no conjunto de dados. O que corresponde a 8.5% dos imóveis no dataframe."
   ]
  },
  {
   "cell_type": "markdown",
   "metadata": {},
   "source": [
    "6.3 - ÁREA\n",
    "\n",
    "Análise univariada da feature 'area'."
   ]
  },
  {
   "cell_type": "code",
   "execution_count": 63,
   "metadata": {},
   "outputs": [
    {
     "data": {
      "text/plain": [
       "0       150\n",
       "1        74\n",
       "2       450\n",
       "3       110\n",
       "4        95\n",
       "       ... \n",
       "8925     46\n",
       "8926     56\n",
       "8927    130\n",
       "8928    118\n",
       "8929    272\n",
       "Name: area, Length: 7030, dtype: int32"
      ]
     },
     "execution_count": 63,
     "metadata": {},
     "output_type": "execute_result"
    }
   ],
   "source": [
    "df['area']"
   ]
  },
  {
   "cell_type": "code",
   "execution_count": 64,
   "metadata": {},
   "outputs": [
    {
     "data": {
      "text/plain": [
       "count      7030.000000\n",
       "mean        192.947511\n",
       "std        3430.521932\n",
       "min          10.000000\n",
       "25%          64.000000\n",
       "50%         100.000000\n",
       "75%         170.750000\n",
       "max      276540.000000\n",
       "Name: area, dtype: float64"
      ]
     },
     "execution_count": 64,
     "metadata": {},
     "output_type": "execute_result"
    }
   ],
   "source": [
    "df['area'].describe()"
   ]
  },
  {
   "cell_type": "markdown",
   "metadata": {},
   "source": [
    "Destaca-se o alto desvio padrão dos valores de área dos imóveis no dataframe. Vale também notar que metade dos imóveis têm menos de 100 m²."
   ]
  },
  {
   "cell_type": "code",
   "execution_count": 65,
   "metadata": {},
   "outputs": [
    {
     "data": {
      "text/plain": [
       "<Axes: >"
      ]
     },
     "execution_count": 65,
     "metadata": {},
     "output_type": "execute_result"
    },
    {
     "data": {
      "image/png": "[encoded data removed]",
      "text/plain": [
       "<Figure size 640x480 with 1 Axes>"
      ]
     },
     "metadata": {},
     "output_type": "display_data"
    }
   ],
   "source": [
    "df['area'].plot()"
   ]
  },
  {
   "cell_type": "code",
   "execution_count": 66,
   "metadata": {},
   "outputs": [
    {
     "data": {
      "text/html": [
       "<div>\n",
       "<style scoped>\n",
       "    .dataframe tbody tr th:only-of-type {\n",
       "        vertical-align: middle;\n",
       "    }\n",
       "\n",
       "    .dataframe tbody tr th {\n",
       "        vertical-align: top;\n",
       "    }\n",
       "\n",
       "    .dataframe thead th {\n",
       "        text-align: right;\n",
       "    }\n",
       "</style>\n",
       "<table border=\"1\" class=\"dataframe\">\n",
       "  <thead>\n",
       "    <tr style=\"text-align: right;\">\n",
       "      <th></th>\n",
       "      <th>titulo</th>\n",
       "      <th>preco</th>\n",
       "      <th>area</th>\n",
       "      <th>quartos</th>\n",
       "      <th>banheiros</th>\n",
       "      <th>garagem</th>\n",
       "      <th>endereco</th>\n",
       "      <th>UF</th>\n",
       "      <th>cidade</th>\n",
       "      <th>tipo_imovel</th>\n",
       "    </tr>\n",
       "  </thead>\n",
       "  <tbody>\n",
       "    <tr>\n",
       "      <th>1395</th>\n",
       "      <td>Casa com 4 Quartos à Venda com 276540m²</td>\n",
       "      <td>989000.0</td>\n",
       "      <td>276540</td>\n",
       "      <td>4</td>\n",
       "      <td>4</td>\n",
       "      <td>3</td>\n",
       "      <td>Avenida do Comércio, 1 - Vila São João, Goiânia - GO</td>\n",
       "      <td>GO</td>\n",
       "      <td>Goiânia</td>\n",
       "      <td>Casa</td>\n",
       "    </tr>\n",
       "    <tr>\n",
       "      <th>8730</th>\n",
       "      <td>Casa de condomínio com 7 Quartos à Venda com 77867m²</td>\n",
       "      <td>4900000.0</td>\n",
       "      <td>77867</td>\n",
       "      <td>7</td>\n",
       "      <td>10</td>\n",
       "      <td>12</td>\n",
       "      <td>Jardim Acapulco , Guarujá - SP</td>\n",
       "      <td>SP</td>\n",
       "      <td>Guarujá</td>\n",
       "      <td>Casa</td>\n",
       "    </tr>\n",
       "  </tbody>\n",
       "</table>\n",
       "</div>"
      ],
      "text/plain": [
       "                                                    titulo      preco    area  \\\n",
       "1395               Casa com 4 Quartos à Venda com 276540m²   989000.0  276540   \n",
       "8730  Casa de condomínio com 7 Quartos à Venda com 77867m²  4900000.0   77867   \n",
       "\n",
       "      quartos  banheiros  garagem  \\\n",
       "1395        4          4        3   \n",
       "8730        7         10       12   \n",
       "\n",
       "                                                  endereco  UF   cidade  \\\n",
       "1395  Avenida do Comércio, 1 - Vila São João, Goiânia - GO  GO  Goiânia   \n",
       "8730                        Jardim Acapulco , Guarujá - SP  SP  Guarujá   \n",
       "\n",
       "     tipo_imovel  \n",
       "1395        Casa  \n",
       "8730        Casa  "
      ]
     },
     "execution_count": 66,
     "metadata": {},
     "output_type": "execute_result"
    }
   ],
   "source": [
    "df.loc[df['area'] > 50000]"
   ]
  },
  {
   "cell_type": "markdown",
   "metadata": {},
   "source": [
    "Apenas duas casas têm áreas maiores que 50.000 m²."
   ]
  },
  {
   "cell_type": "code",
   "execution_count": 67,
   "metadata": {},
   "outputs": [
    {
     "data": {
      "image/png": "[encoded data removed]",
      "text/plain": [
       "<Figure size 640x480 with 1 Axes>"
      ]
     },
     "metadata": {},
     "output_type": "display_data"
    }
   ],
   "source": [
    "_=sns.boxplot(df['area'])"
   ]
  },
  {
   "cell_type": "markdown",
   "metadata": {},
   "source": [
    "Assim como na coluna de preço temos a presença de outliers."
   ]
  },
  {
   "cell_type": "code",
   "execution_count": 68,
   "metadata": {},
   "outputs": [
    {
     "data": {
      "text/plain": [
       "439"
      ]
     },
     "execution_count": 68,
     "metadata": {},
     "output_type": "execute_result"
    }
   ],
   "source": [
    "outliers(df['area'])"
   ]
  },
  {
   "cell_type": "markdown",
   "metadata": {},
   "source": [
    "Temos 439 outliers na coluna área."
   ]
  },
  {
   "cell_type": "code",
   "execution_count": 69,
   "metadata": {},
   "outputs": [
    {
     "data": {
      "text/plain": [
       "1777.9560460786602"
      ]
     },
     "execution_count": 69,
     "metadata": {},
     "output_type": "execute_result"
    }
   ],
   "source": [
    "#coeficiente de variação\n",
    "cv(df['area'])"
   ]
  },
  {
   "cell_type": "markdown",
   "metadata": {},
   "source": [
    "A variação de área é muito maior do que a variação de preço, temos cv de 1778% na coluna de área. Indicando que os dados são muito mais dispersos na área do que no preço."
   ]
  },
  {
   "cell_type": "markdown",
   "metadata": {},
   "source": [
    "6.4 - QUARTOS\n",
    "\n",
    "Quantidade de quartos dos imóveis presentes no dataframe."
   ]
  },
  {
   "cell_type": "code",
   "execution_count": 70,
   "metadata": {},
   "outputs": [
    {
     "data": {
      "text/plain": [
       "0       3\n",
       "1       3\n",
       "2       3\n",
       "3       3\n",
       "4       3\n",
       "       ..\n",
       "8925    2\n",
       "8926    1\n",
       "8927    3\n",
       "8928    3\n",
       "8929    3\n",
       "Name: quartos, Length: 7030, dtype: int32"
      ]
     },
     "execution_count": 70,
     "metadata": {},
     "output_type": "execute_result"
    }
   ],
   "source": [
    "df['quartos']"
   ]
  },
  {
   "cell_type": "code",
   "execution_count": 71,
   "metadata": {},
   "outputs": [
    {
     "data": {
      "text/plain": [
       "count    7030.000000\n",
       "mean        2.649929\n",
       "std         0.970285\n",
       "min         0.000000\n",
       "25%         2.000000\n",
       "50%         3.000000\n",
       "75%         3.000000\n",
       "max        15.000000\n",
       "Name: quartos, dtype: float64"
      ]
     },
     "execution_count": 71,
     "metadata": {},
     "output_type": "execute_result"
    }
   ],
   "source": [
    "df['quartos'].describe()"
   ]
  },
  {
   "cell_type": "markdown",
   "metadata": {},
   "source": [
    "Metade dos imóveis têm menos de 3 quartos e até 75% dos imóveis têm no máximo 3 quartos. Casas com mais de 3 quartos são relativamente raras no dataset presente."
   ]
  },
  {
   "cell_type": "code",
   "execution_count": 72,
   "metadata": {},
   "outputs": [
    {
     "data": {
      "text/html": [
       "<div>\n",
       "<style scoped>\n",
       "    .dataframe tbody tr th:only-of-type {\n",
       "        vertical-align: middle;\n",
       "    }\n",
       "\n",
       "    .dataframe tbody tr th {\n",
       "        vertical-align: top;\n",
       "    }\n",
       "\n",
       "    .dataframe thead th {\n",
       "        text-align: right;\n",
       "    }\n",
       "</style>\n",
       "<table border=\"1\" class=\"dataframe\">\n",
       "  <thead>\n",
       "    <tr style=\"text-align: right;\">\n",
       "      <th></th>\n",
       "      <th>titulo</th>\n",
       "      <th>preco</th>\n",
       "      <th>area</th>\n",
       "      <th>quartos</th>\n",
       "      <th>banheiros</th>\n",
       "      <th>garagem</th>\n",
       "      <th>endereco</th>\n",
       "      <th>UF</th>\n",
       "      <th>cidade</th>\n",
       "      <th>tipo_imovel</th>\n",
       "    </tr>\n",
       "  </thead>\n",
       "  <tbody>\n",
       "    <tr>\n",
       "      <th>222</th>\n",
       "      <td>Apartamento à Venda com 26m²</td>\n",
       "      <td>164000.0</td>\n",
       "      <td>26</td>\n",
       "      <td>0</td>\n",
       "      <td>1</td>\n",
       "      <td>0</td>\n",
       "      <td>Rua dos Inválidos, 183 - Centro, Rio de Janeiro - RJ</td>\n",
       "      <td>RJ</td>\n",
       "      <td>Rio de Janeiro</td>\n",
       "      <td>Apartamento</td>\n",
       "    </tr>\n",
       "    <tr>\n",
       "      <th>2115</th>\n",
       "      <td>Casa à Venda com 1000m²</td>\n",
       "      <td>5300000.0</td>\n",
       "      <td>1000</td>\n",
       "      <td>0</td>\n",
       "      <td>7</td>\n",
       "      <td>0</td>\n",
       "      <td>Rua Samuel Fragoso Coimbra, 26 - Vila Nova Valinhos, Valinhos - SP</td>\n",
       "      <td>SP</td>\n",
       "      <td>Valinhos</td>\n",
       "      <td>Casa</td>\n",
       "    </tr>\n",
       "  </tbody>\n",
       "</table>\n",
       "</div>"
      ],
      "text/plain": [
       "                            titulo      preco  area  quartos  banheiros  \\\n",
       "222   Apartamento à Venda com 26m²   164000.0    26        0          1   \n",
       "2115       Casa à Venda com 1000m²  5300000.0  1000        0          7   \n",
       "\n",
       "      garagem  \\\n",
       "222         0   \n",
       "2115        0   \n",
       "\n",
       "                                                                endereco  UF  \\\n",
       "222                 Rua dos Inválidos, 183 - Centro, Rio de Janeiro - RJ  RJ   \n",
       "2115  Rua Samuel Fragoso Coimbra, 26 - Vila Nova Valinhos, Valinhos - SP  SP   \n",
       "\n",
       "              cidade  tipo_imovel  \n",
       "222   Rio de Janeiro  Apartamento  \n",
       "2115        Valinhos         Casa  "
      ]
     },
     "execution_count": 72,
     "metadata": {},
     "output_type": "execute_result"
    }
   ],
   "source": [
    "df.loc[df['quartos']==0]"
   ]
  },
  {
   "cell_type": "markdown",
   "metadata": {},
   "source": [
    "Duas observações não contam com número de quartos, uma delas é uma casa comercial com três casas para venda. \n"
   ]
  },
  {
   "cell_type": "code",
   "execution_count": 73,
   "metadata": {},
   "outputs": [
    {
     "data": {
      "image/png": "[encoded data removed]",
      "text/plain": [
       "<Figure size 640x480 with 1 Axes>"
      ]
     },
     "metadata": {},
     "output_type": "display_data"
    }
   ],
   "source": [
    "_=sns.boxplot(df['quartos'])\n",
    "_=plt.ylabel(\"Nº de quartos\")"
   ]
  },
  {
   "cell_type": "markdown",
   "metadata": {},
   "source": [
    "Possível verificar que existem alguns outliers que são imóveis com um número de quartos maior que 4 e menor do que 1. Quantos outliers temos?"
   ]
  },
  {
   "cell_type": "code",
   "execution_count": 74,
   "metadata": {},
   "outputs": [
    {
     "data": {
      "text/plain": [
       "184"
      ]
     },
     "execution_count": 74,
     "metadata": {},
     "output_type": "execute_result"
    }
   ],
   "source": [
    "#contando quantos imóveis com mais de 4 quartos existem\n",
    "outliers(df['quartos'])"
   ]
  },
  {
   "cell_type": "code",
   "execution_count": 75,
   "metadata": {},
   "outputs": [
    {
     "data": {
      "text/plain": [
       "2.617354196301565"
      ]
     },
     "execution_count": 75,
     "metadata": {},
     "output_type": "execute_result"
    }
   ],
   "source": [
    "(184/df['quartos'].count())*100\n"
   ]
  },
  {
   "cell_type": "markdown",
   "metadata": {},
   "source": [
    "O número de imóveis com mais de 4 quartos corresponde a 2.6% dos imóveis do dataframe."
   ]
  },
  {
   "cell_type": "code",
   "execution_count": 76,
   "metadata": {},
   "outputs": [
    {
     "data": {
      "text/plain": [
       "36.615516452042755"
      ]
     },
     "execution_count": 76,
     "metadata": {},
     "output_type": "execute_result"
    }
   ],
   "source": [
    "#coeficiente de variação\n",
    "cv(df['quartos'])"
   ]
  },
  {
   "cell_type": "markdown",
   "metadata": {},
   "source": [
    "Existem uma grande variabilidade no que diz respeito ao número de quartos dos imóveis."
   ]
  },
  {
   "cell_type": "markdown",
   "metadata": {},
   "source": [
    "6.5 - BANHEIROS\n",
    "\n",
    "Análise dos imóveis com relação ao número de banheiros."
   ]
  },
  {
   "cell_type": "code",
   "execution_count": 77,
   "metadata": {},
   "outputs": [
    {
     "data": {
      "text/plain": [
       "0       4\n",
       "1       2\n",
       "2       5\n",
       "3       2\n",
       "4       3\n",
       "       ..\n",
       "8925    1\n",
       "8926    2\n",
       "8927    1\n",
       "8928    3\n",
       "8929    4\n",
       "Name: banheiros, Length: 7030, dtype: int32"
      ]
     },
     "execution_count": 77,
     "metadata": {},
     "output_type": "execute_result"
    }
   ],
   "source": [
    "df['banheiros']"
   ]
  },
  {
   "cell_type": "code",
   "execution_count": 78,
   "metadata": {},
   "outputs": [
    {
     "data": {
      "text/plain": [
       "count    7030.000000\n",
       "mean        2.474538\n",
       "std         1.490948\n",
       "min         1.000000\n",
       "25%         1.000000\n",
       "50%         2.000000\n",
       "75%         3.000000\n",
       "max        14.000000\n",
       "Name: banheiros, dtype: float64"
      ]
     },
     "execution_count": 78,
     "metadata": {},
     "output_type": "execute_result"
    }
   ],
   "source": [
    "#estátistica básica\n",
    "df['banheiros'].describe()"
   ]
  },
  {
   "cell_type": "markdown",
   "metadata": {},
   "source": [
    "Metáde dos imóveis no dataframe têm até 2 banheiros e 75% deles, até 3."
   ]
  },
  {
   "cell_type": "code",
   "execution_count": 79,
   "metadata": {},
   "outputs": [
    {
     "data": {
      "image/png": "[encoded data removed]",
      "text/plain": [
       "<Figure size 640x480 with 1 Axes>"
      ]
     },
     "metadata": {},
     "output_type": "display_data"
    }
   ],
   "source": [
    "_=sns.boxplot(df['banheiros'])\n",
    "_=plt.ylabel(\"Nº de banheiros\")"
   ]
  },
  {
   "cell_type": "markdown",
   "metadata": {},
   "source": [
    "Metade dos imóveis tem até 2 banheiros, temos alguns outliers que são imóveis com mais de 6 banheiros. Quantos outliers temos ao total?"
   ]
  },
  {
   "cell_type": "code",
   "execution_count": 80,
   "metadata": {},
   "outputs": [
    {
     "data": {
      "text/plain": [
       "82"
      ]
     },
     "execution_count": 80,
     "metadata": {},
     "output_type": "execute_result"
    }
   ],
   "source": [
    "df['banheiros'].loc[df['banheiros'] > 6].count()"
   ]
  },
  {
   "cell_type": "code",
   "execution_count": 81,
   "metadata": {},
   "outputs": [
    {
     "data": {
      "text/plain": [
       "7030"
      ]
     },
     "execution_count": 81,
     "metadata": {},
     "output_type": "execute_result"
    }
   ],
   "source": [
    "df['banheiros'].count()"
   ]
  },
  {
   "cell_type": "code",
   "execution_count": 82,
   "metadata": {},
   "outputs": [
    {
     "data": {
      "text/plain": [
       "1.166429587482219"
      ]
     },
     "execution_count": 82,
     "metadata": {},
     "output_type": "execute_result"
    }
   ],
   "source": [
    "(82/7030)*100"
   ]
  },
  {
   "cell_type": "markdown",
   "metadata": {},
   "source": [
    "Temos 82 imóveis com mais de 6 banheiros no dataframe. O que corresponde a 1.17% dos imóveis."
   ]
  },
  {
   "cell_type": "code",
   "execution_count": 83,
   "metadata": {},
   "outputs": [
    {
     "data": {
      "text/plain": [
       "60.25156955317384"
      ]
     },
     "execution_count": 83,
     "metadata": {},
     "output_type": "execute_result"
    }
   ],
   "source": [
    "#Coeficiente de variabilidade\n",
    "cv(df['banheiros'])"
   ]
  },
  {
   "cell_type": "markdown",
   "metadata": {},
   "source": [
    "Temos alta variabilidade no que diz respeito a número de banheiros também. Porém, menos do que com relação ao número de quartos. Os imóveis do dataframe variam mais em número de banheiros do que em quartos."
   ]
  },
  {
   "cell_type": "markdown",
   "metadata": {},
   "source": [
    "6.6 - GARAGEM\n",
    "\n",
    "Análise do número de vagas na garagem dos imóveis no dataframe."
   ]
  },
  {
   "cell_type": "code",
   "execution_count": 84,
   "metadata": {},
   "outputs": [
    {
     "data": {
      "text/plain": [
       "0        4\n",
       "1        3\n",
       "2       10\n",
       "3        1\n",
       "4        2\n",
       "        ..\n",
       "8925     1\n",
       "8926     1\n",
       "8927     2\n",
       "8928     1\n",
       "8929     5\n",
       "Name: garagem, Length: 7030, dtype: int32"
      ]
     },
     "execution_count": 84,
     "metadata": {},
     "output_type": "execute_result"
    }
   ],
   "source": [
    "df['garagem']"
   ]
  },
  {
   "cell_type": "code",
   "execution_count": 85,
   "metadata": {},
   "outputs": [
    {
     "data": {
      "text/plain": [
       "count    7030.000000\n",
       "mean        1.965292\n",
       "std         1.851260\n",
       "min         0.000000\n",
       "25%         1.000000\n",
       "50%         2.000000\n",
       "75%         2.000000\n",
       "max        82.000000\n",
       "Name: garagem, dtype: float64"
      ]
     },
     "execution_count": 85,
     "metadata": {},
     "output_type": "execute_result"
    }
   ],
   "source": [
    "df['garagem'].describe()"
   ]
  },
  {
   "cell_type": "markdown",
   "metadata": {},
   "source": [
    "Mais da metade dos imóveis, na verdade, 3/4 dos imóveis têm até 2 vagas garagem."
   ]
  },
  {
   "cell_type": "code",
   "execution_count": 86,
   "metadata": {},
   "outputs": [
    {
     "data": {
      "image/png": "[encoded data removed]",
      "text/plain": [
       "<Figure size 640x480 with 1 Axes>"
      ]
     },
     "metadata": {},
     "output_type": "display_data"
    }
   ],
   "source": [
    "_=sns.boxplot(df['garagem'])\n",
    "_=plt.ylabel('nº de vagas na garagem')"
   ]
  },
  {
   "cell_type": "code",
   "execution_count": 87,
   "metadata": {},
   "outputs": [
    {
     "data": {
      "text/plain": [
       "1071"
      ]
     },
     "execution_count": 87,
     "metadata": {},
     "output_type": "execute_result"
    }
   ],
   "source": [
    "#Número de outliers\n",
    "outliers(df['garagem'])"
   ]
  },
  {
   "cell_type": "code",
   "execution_count": 88,
   "metadata": {},
   "outputs": [
    {
     "data": {
      "text/plain": [
       "15.23470839260313"
      ]
     },
     "execution_count": 88,
     "metadata": {},
     "output_type": "execute_result"
    }
   ],
   "source": [
    "(1071/7030)*100"
   ]
  },
  {
   "cell_type": "markdown",
   "metadata": {},
   "source": [
    "Temos 15% de outliers com relação ao número de vagas na garagem entre os imóveis."
   ]
  },
  {
   "cell_type": "code",
   "execution_count": 89,
   "metadata": {},
   "outputs": [
    {
     "data": {
      "text/plain": [
       "94.19772249151626"
      ]
     },
     "execution_count": 89,
     "metadata": {},
     "output_type": "execute_result"
    }
   ],
   "source": [
    "cv(df['garagem'])"
   ]
  },
  {
   "cell_type": "markdown",
   "metadata": {},
   "source": [
    "Com 94% de CV sabemos que os dados variam bastante com relação ao número de vagas na garagem."
   ]
  },
  {
   "cell_type": "code",
   "execution_count": 90,
   "metadata": {},
   "outputs": [
    {
     "data": {
      "text/plain": [
       "Index(['titulo', 'preco', 'area', 'quartos', 'banheiros', 'garagem',\n",
       "       'endereco', 'UF', 'cidade', 'tipo_imovel'],\n",
       "      dtype='object')"
      ]
     },
     "execution_count": 90,
     "metadata": {},
     "output_type": "execute_result"
    }
   ],
   "source": [
    "df.columns"
   ]
  },
  {
   "cell_type": "markdown",
   "metadata": {},
   "source": [
    "6.7 - ENDEREÇO\n",
    "\n",
    "Endereço dos imóveis."
   ]
  },
  {
   "cell_type": "code",
   "execution_count": 91,
   "metadata": {},
   "outputs": [
    {
     "data": {
      "text/plain": [
       "0                               Travessa Felício, 41 - Cascadura, Rio de Janeiro - RJ\n",
       "1                                    Rua José Bolonha, 547 - Igacaba, Pedregulho - SP\n",
       "2                      Avenida Ponte Alta Norte, 08 - Ponte Alta Norte, Brasília - DF\n",
       "3        Ponte Marcos Freire II, 56 - Marcos Freire II, Nossa Senhora do Socorro - SE\n",
       "4             Avenida Presidente Kennedy, 432 - Piedade, Jaboatão dos Guararapes - PE\n",
       "                                            ...                                      \n",
       "8925                        Rua Cravinhos, 0 - Jardim Paulistano, Ribeirão Preto - SP\n",
       "8926    Avenida Wladimir Meirelles Ferreira, 0 - Jardim Botânico, Ribeirão Preto - SP\n",
       "8927                                             Bonfim Paulista, Ribeirão Preto - SP\n",
       "8928                 Rua Humaitá, 0 - Santa Cruz do José Jacques, Ribeirão Preto - SP\n",
       "8929                Rua Arlindo Rivoiro, 0 - Recreio das Acácias, Ribeirão Preto - SP\n",
       "Name: endereco, Length: 7030, dtype: object"
      ]
     },
     "execution_count": 91,
     "metadata": {},
     "output_type": "execute_result"
    }
   ],
   "source": [
    "df['endereco']"
   ]
  },
  {
   "cell_type": "code",
   "execution_count": 92,
   "metadata": {},
   "outputs": [
    {
     "data": {
      "text/plain": [
       "5805"
      ]
     },
     "execution_count": 92,
     "metadata": {},
     "output_type": "execute_result"
    }
   ],
   "source": [
    "df['endereco'].nunique()"
   ]
  },
  {
   "cell_type": "markdown",
   "metadata": {},
   "source": [
    "Temos 5805 endereços distintos, o que indica que temos mais de um imóvel com o mesmo endereço."
   ]
  },
  {
   "cell_type": "markdown",
   "metadata": {},
   "source": [
    "6.8 - UF\n",
    "\n",
    "Estado em que o móvel está."
   ]
  },
  {
   "cell_type": "code",
   "execution_count": 93,
   "metadata": {},
   "outputs": [
    {
     "data": {
      "text/plain": [
       "0       RJ\n",
       "1       SP\n",
       "2       DF\n",
       "3       SE\n",
       "4       PE\n",
       "        ..\n",
       "8925    SP\n",
       "8926    SP\n",
       "8927    SP\n",
       "8928    SP\n",
       "8929    SP\n",
       "Name: UF, Length: 7030, dtype: object"
      ]
     },
     "execution_count": 93,
     "metadata": {},
     "output_type": "execute_result"
    }
   ],
   "source": [
    "df['UF']"
   ]
  },
  {
   "cell_type": "code",
   "execution_count": 94,
   "metadata": {},
   "outputs": [
    {
     "data": {
      "text/plain": [
       "0"
      ]
     },
     "execution_count": 94,
     "metadata": {},
     "output_type": "execute_result"
    }
   ],
   "source": [
    "#não temos dados faltantes\n",
    "df['UF'].isna().sum()"
   ]
  },
  {
   "cell_type": "code",
   "execution_count": 95,
   "metadata": {},
   "outputs": [
    {
     "data": {
      "text/plain": [
       "UF\n",
       "SP    3960\n",
       "RJ     716\n",
       "PE     498\n",
       "RS     256\n",
       "MG     191\n",
       "SC     179\n",
       "ES     170\n",
       "SE     167\n",
       "GO     152\n",
       "PR     150\n",
       "MA     126\n",
       "BA     113\n",
       "CE      82\n",
       "AM      57\n",
       "PB      42\n",
       "DF      40\n",
       "PA      32\n",
       "PI      26\n",
       "RN      26\n",
       "AL      16\n",
       "MT      12\n",
       "TO       7\n",
       "MS       5\n",
       "RO       4\n",
       "AC       3\n",
       "Name: count, dtype: int64"
      ]
     },
     "execution_count": 95,
     "metadata": {},
     "output_type": "execute_result"
    }
   ],
   "source": [
    "df['UF'].value_counts()"
   ]
  },
  {
   "cell_type": "markdown",
   "metadata": {},
   "source": [
    "São Paulo (SP) é o estado com o maior número de imóveis no dataframe. O Acre (AC) é o estado com menor número de imóveis."
   ]
  },
  {
   "cell_type": "code",
   "execution_count": 96,
   "metadata": {},
   "outputs": [],
   "source": [
    "def plot(dados):\n",
    "  \n",
    "  '''Função pra plotar dados categóricos'''\n",
    "  x=dados.value_counts().index\n",
    "  y=dados.value_counts().values\n",
    "\n",
    "  _=plt.figure(figsize=(9,6))\n",
    "  _=ax=sns.barplot(x=x, y=y, color='#0397AB')\n",
    "\n",
    "  _=ax.set_ylabel(\"Nº imóveis\", weight='heavy')\n",
    "  _=ax.set_xlabel(\"UF\", weight='heavy')\n",
    "  _=ax.set_title(\"Nº de imóveis por estado\", weight='heavy')\n",
    "\n",
    "  #label\n",
    "  for c in ax.containers:\n",
    "     ax.bar_label(c)\n",
    "\n"
   ]
  },
  {
   "cell_type": "code",
   "execution_count": 97,
   "metadata": {},
   "outputs": [
    {
     "data": {
      "image/png": "[encoded data removed]",
      "text/plain": [
       "<Figure size 900x600 with 1 Axes>"
      ]
     },
     "metadata": {},
     "output_type": "display_data"
    }
   ],
   "source": [
    "plot(df['UF'])"
   ]
  },
  {
   "cell_type": "markdown",
   "metadata": {},
   "source": [
    "6.9 - CIDADE\n",
    "\n",
    "Análise da coluna cidade."
   ]
  },
  {
   "cell_type": "code",
   "execution_count": 98,
   "metadata": {},
   "outputs": [
    {
     "data": {
      "text/plain": [
       "339"
      ]
     },
     "execution_count": 98,
     "metadata": {},
     "output_type": "execute_result"
    }
   ],
   "source": [
    "df['cidade'].nunique()"
   ]
  },
  {
   "cell_type": "markdown",
   "metadata": {},
   "source": [
    "Temos imóveis de 339 cidades diferentes."
   ]
  },
  {
   "cell_type": "code",
   "execution_count": 99,
   "metadata": {},
   "outputs": [
    {
     "data": {
      "text/plain": [
       "cidade\n",
       "São Paulo            1638\n",
       "Rio de Janeiro        486\n",
       "Ribeirão Preto        313\n",
       "Campinas              303\n",
       "Recife                207\n",
       "                     ... \n",
       "Salto de Pirapora       1\n",
       "Maracanaú               1\n",
       "Belford Roxo            1\n",
       "Caruaru                 1\n",
       "Pará de Minas           1\n",
       "Name: count, Length: 339, dtype: int64"
      ]
     },
     "execution_count": 99,
     "metadata": {},
     "output_type": "execute_result"
    }
   ],
   "source": [
    "df['cidade'].value_counts()"
   ]
  },
  {
   "cell_type": "markdown",
   "metadata": {},
   "source": [
    "São Paulo (capital) e Rio de Janeiro são as cidades com mais imóveis no dataframe."
   ]
  },
  {
   "cell_type": "markdown",
   "metadata": {},
   "source": [
    "6.10 - TIPO DE IMÓVEL\n",
    "\n",
    "Tipo do imóvel - Casa ou Apartamento."
   ]
  },
  {
   "cell_type": "code",
   "execution_count": 100,
   "metadata": {},
   "outputs": [
    {
     "data": {
      "text/plain": [
       "0       Apartamento\n",
       "1              Casa\n",
       "2              Casa\n",
       "3              Casa\n",
       "4       Apartamento\n",
       "           ...     \n",
       "8925    Apartamento\n",
       "8926    Apartamento\n",
       "8927           Casa\n",
       "8928    Apartamento\n",
       "8929           Casa\n",
       "Name: tipo_imovel, Length: 7030, dtype: object"
      ]
     },
     "execution_count": 100,
     "metadata": {},
     "output_type": "execute_result"
    }
   ],
   "source": [
    "df['tipo_imovel']"
   ]
  },
  {
   "cell_type": "code",
   "execution_count": 114,
   "metadata": {},
   "outputs": [
    {
     "data": {
      "text/plain": [
       "dtype('O')"
      ]
     },
     "execution_count": 114,
     "metadata": {},
     "output_type": "execute_result"
    }
   ],
   "source": [
    "df['tipo_imovel'].dtypes"
   ]
  },
  {
   "cell_type": "code",
   "execution_count": 101,
   "metadata": {},
   "outputs": [
    {
     "data": {
      "text/plain": [
       "2"
      ]
     },
     "execution_count": 101,
     "metadata": {},
     "output_type": "execute_result"
    }
   ],
   "source": [
    "df['tipo_imovel'].nunique()"
   ]
  },
  {
   "cell_type": "code",
   "execution_count": 102,
   "metadata": {},
   "outputs": [
    {
     "data": {
      "text/plain": [
       "tipo_imovel\n",
       "Apartamento    4444\n",
       "Casa           2586\n",
       "Name: count, dtype: int64"
      ]
     },
     "execution_count": 102,
     "metadata": {},
     "output_type": "execute_result"
    }
   ],
   "source": [
    "df['tipo_imovel'].value_counts()"
   ]
  },
  {
   "cell_type": "code",
   "execution_count": 112,
   "metadata": {},
   "outputs": [
    {
     "data": {
      "image/png": "[encoded data removed]",
      "text/plain": [
       "<Figure size 800x600 with 1 Axes>"
      ]
     },
     "metadata": {},
     "output_type": "display_data"
    }
   ],
   "source": [
    "x=df['tipo_imovel'].value_counts().index\n",
    "y=df['tipo_imovel'].value_counts(1).values\n",
    "\n",
    "_=plt.figure(figsize=(8,6))\n",
    "_=ax=sns.barplot(x=x, y=y, color='#0397AB')\n",
    "\n",
    "_=ax.set_ylabel('%'  'imóveis', weight='heavy')\n",
    "_=ax.set_xlabel(\"Tipo do imóvel\", weight='heavy')\n",
    "_=ax.set_title(\"Proporção de imóveis no dataset\", weight='heavy')\n",
    "\n",
    "#formatando\n",
    "atual_axes = plt.gca().get_yticks()\n",
    "ax.yaxis.set_ticks(atual_axes)\n",
    "plt.gca().set_yticklabels(['{:,.0%}'.format(i) for i in atual_axes])\n",
    "\n",
    "#label\n",
    "for c in ax.containers:\n",
    "   ax.bar_label(c,fmt='{:,.0%}' )"
   ]
  },
  {
   "cell_type": "markdown",
   "metadata": {},
   "source": [
    "A quantidade de apartamentos é quase o dobro da de casas no dataframe. "
   ]
  },
  {
   "cell_type": "markdown",
   "metadata": {},
   "source": [
    "7 - ANÁLISE BIVARIADA\n",
    "\n",
    "Nessa etapa analisarei os dados relacionando diferentes colunas afim de extrair maiores informações."
   ]
  },
  {
   "cell_type": "markdown",
   "metadata": {},
   "source": [
    "7.1 - Variabilidade do preço\n",
    "\n",
    "Busco identificar quais aspectos parecem influenciar mais o preço de imóveis.\n",
    "\n",
    "- Existe relação entre a área do imóvel e seu valor?\n",
    "- Quanto ao número de quartos, banheiros e vagas na garagem?\n",
    "- Existe diferença estatística entre casas e apartamentos no que diz respeito ao preço?\n",
    "- O preço varia mais entre casas ou apartamentos?\n",
    "- Quais estados com imóveis mais caros e mais baratos?\n",
    "- Qual estado apresenta maior variabilidade de preços? "
   ]
  },
  {
   "cell_type": "code",
   "execution_count": 115,
   "metadata": {},
   "outputs": [
    {
     "data": {
      "text/plain": [
       "Index(['titulo', 'preco', 'area', 'quartos', 'banheiros', 'garagem',\n",
       "       'endereco', 'UF', 'cidade', 'tipo_imovel'],\n",
       "      dtype='object')"
      ]
     },
     "execution_count": 115,
     "metadata": {},
     "output_type": "execute_result"
    }
   ],
   "source": [
    "df.columns"
   ]
  },
  {
   "cell_type": "code",
   "execution_count": 134,
   "metadata": {},
   "outputs": [],
   "source": [
    "test = df.loc[df['area']<50000]\n"
   ]
  },
  {
   "cell_type": "code",
   "execution_count": 135,
   "metadata": {},
   "outputs": [
    {
     "data": {
      "image/png": "[encoded data removed]",
      "text/plain": [
       "<Figure size 640x480 with 1 Axes>"
      ]
     },
     "metadata": {},
     "output_type": "display_data"
    }
   ],
   "source": [
    "_=ax=sns.scatterplot(data=df, x=df.preco, y=test.area, hue=df.preco)\n",
    "\n",
    "#configurando\n",
    "_=ax.set_title('Relação Preço x Área', weight='heavy')\n",
    "_=ax.set_xlabel('Preço do imóvel', weight='heavy')\n",
    "_=ax.set_ylabel('Área do imóvel', weight='heavy')\n"
   ]
  },
  {
   "cell_type": "markdown",
   "metadata": {},
   "source": []
  }
 ],
 "metadata": {
  "kernelspec": {
   "display_name": "base",
   "language": "python",
   "name": "python3"
  },
  "language_info": {
   "codemirror_mode": {
    "name": "ipython",
    "version": 3
   },
   "file_extension": ".py",
   "mimetype": "text/x-python",
   "name": "python",
   "nbconvert_exporter": "python",
   "pygments_lexer": "ipython3",
   "version": "3.11.5"
  }
 },
 "nbformat": 4,
 "nbformat_minor": 2
}
